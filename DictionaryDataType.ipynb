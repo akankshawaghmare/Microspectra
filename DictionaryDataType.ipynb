{
  "nbformat": 4,
  "nbformat_minor": 0,
  "metadata": {
    "colab": {
      "name": "DictionaryDataType.ipynb",
      "provenance": [],
      "authorship_tag": "ABX9TyOgret+aTDndns+vjLEkL33",
      "include_colab_link": true
    },
    "kernelspec": {
      "name": "python3",
      "display_name": "Python 3"
    }
  },
  "cells": [
    {
      "cell_type": "markdown",
      "metadata": {
        "id": "view-in-github",
        "colab_type": "text"
      },
      "source": [
        "<a href=\"https://colab.research.google.com/github/akankshawaghmare/Microspectra/blob/main/DictionaryDataType.ipynb\" target=\"_parent\"><img src=\"https://colab.research.google.com/assets/colab-badge.svg\" alt=\"Open In Colab\"/></a>"
      ]
    },
    {
      "cell_type": "code",
      "metadata": {
        "id": "L8F6dhLF80FT",
        "colab": {
          "base_uri": "https://localhost:8080/"
        },
        "outputId": "327b9ac8-0c7c-4369-f3a9-70d316409f21"
      },
      "source": [
        "d={'name':'akanksha','surname':'waghmare','dob':7,'bloodgroup':'A+'}\r\n",
        "print(d)\r\n",
        "print(\"name:\",d.get('name'))\r\n",
        "d['age']=23\r\n",
        "print(d)\r\n",
        "print(d.pop('bloodgroup'))   #pop method will give us the arguments output\r\n",
        "print(d.popitem())   #pop item will give us the last pair of key value\r\n",
        "print(d.clear()) #if you use clear() in print it will give none\r\n",
        "d.clear()\r\n",
        "print(d)"
      ],
      "execution_count": null,
      "outputs": [
        {
          "output_type": "stream",
          "text": [
            "{'name': 'akanksha', 'surname': 'waghmare', 'dob': 7, 'bloodgroup': 'A+'}\n",
            "name: akanksha\n",
            "{'name': 'akanksha', 'surname': 'waghmare', 'dob': 7, 'bloodgroup': 'A+', 'age': 23}\n",
            "A+\n",
            "('age', 23)\n",
            "None\n",
            "{}\n"
          ],
          "name": "stdout"
        }
      ]
    },
    {
      "cell_type": "code",
      "metadata": {
        "id": "tiz068NQk1GC"
      },
      "source": [
        ""
      ],
      "execution_count": null,
      "outputs": []
    },
    {
      "cell_type": "code",
      "metadata": {
        "colab": {
          "base_uri": "https://localhost:8080/"
        },
        "id": "jWTYCSB6eIJs",
        "outputId": "1fd871e7-ae47-452e-e2c9-235a25738e99"
      },
      "source": [
        "#program for sum of all the values in dict\r\n",
        "mydict={'a':10,'b':20,'c':30,'d':40,'e':50}\r\n",
        "print('The sum of all the values in mydict is :')\r\n",
        "print(sum(mydict.values()))"
      ],
      "execution_count": null,
      "outputs": [
        {
          "output_type": "stream",
          "text": [
            "The sum of all the values in mydict is :\n",
            "150\n"
          ],
          "name": "stdout"
        }
      ]
    },
    {
      "cell_type": "code",
      "metadata": {
        "colab": {
          "base_uri": "https://localhost:8080/"
        },
        "id": "0AuMhCQ3fOfS",
        "outputId": "3f5369ba-4a01-4050-a06f-990ff20161b5"
      },
      "source": [
        "#program for concatenation of two dict\r\n",
        "dict1={'a':'apple','b':'banana','c':'carrot'}\r\n",
        "dict2={'d':'dish','e':'elephant'}\r\n",
        "dict1.update(dict2)\r\n",
        "print(\"The concatenated dictionary is :\",dict1)"
      ],
      "execution_count": null,
      "outputs": [
        {
          "output_type": "stream",
          "text": [
            "The concatenated dictionary is : {'a': 'apple', 'b': 'banana', 'c': 'carrot', 'd': 'dish', 'e': 'elephant'}\n"
          ],
          "name": "stdout"
        }
      ]
    },
    {
      "cell_type": "code",
      "metadata": {
        "colab": {
          "base_uri": "https://localhost:8080/"
        },
        "id": "PWQza00Dgic4",
        "outputId": "d867fcfa-4816-40d2-db15-49476dd9529d"
      },
      "source": [
        "#program for delete the key in dict\r\n",
        "x={'a': 'apple', 'b': 'banana', 'c': 'carrot', 'd': 'dish', 'e': 'elephant'}\r\n",
        "print('The main dictionary is :',x)\r\n",
        "key = input(\"Enter the key to delete(a-e):\")\r\n",
        "if key in x: \r\n",
        "    del x[key]\r\n",
        "else:\r\n",
        "    print(\"Key not found!\")\r\n",
        "    exit(0)\r\n",
        "print(\"Updated dictionary\")\r\n",
        "print(x)"
      ],
      "execution_count": null,
      "outputs": [
        {
          "output_type": "stream",
          "text": [
            "The main dictionary is : {'a': 'apple', 'b': 'banana', 'c': 'carrot', 'd': 'dish', 'e': 'elephant'}\n",
            "Enter the key to delete(a-e):f\n",
            "Key not found!\n",
            "Updated dictionary\n",
            "{'a': 'apple', 'b': 'banana', 'c': 'carrot', 'd': 'dish', 'e': 'elephant'}\n"
          ],
          "name": "stdout"
        }
      ]
    },
    {
      "cell_type": "code",
      "metadata": {
        "colab": {
          "base_uri": "https://localhost:8080/"
        },
        "id": "hbDcgnlVjRy5",
        "outputId": "a0e8c4da-34a8-435a-dc04-702d8b623998"
      },
      "source": [
        "#program for converting list in dict\r\n",
        "k=['a','b','c']\r\n",
        "v=['A','B','C']\r\n",
        "d=dict(zip(k,v))\r\n",
        "print(d)\r\n",
        "rollno=['11','12','13','14','15']\r\n",
        "name=['a','b','c','d','e']\r\n",
        "x=dict(zip(name,rollno))\r\n",
        "print(x)\r\n",
        "d=print(zip(k,v))\r\n"
      ],
      "execution_count": null,
      "outputs": [
        {
          "output_type": "stream",
          "text": [
            "{'a': 'A', 'b': 'B', 'c': 'C'}\n",
            "{'a': '11', 'b': '12', 'c': '13', 'd': '14', 'e': '15'}\n",
            "<zip object at 0x7f621b45e688>\n"
          ],
          "name": "stdout"
        }
      ]
    },
    {
      "cell_type": "code",
      "metadata": {
        "colab": {
          "base_uri": "https://localhost:8080/"
        },
        "id": "5yZqNTr1j0T_",
        "outputId": "dc78a6d2-a4d5-4965-e5a3-02094d7d3b42"
      },
      "source": [
        "#program for finding the values in dict\r\n",
        "student_name=\"akanksha\"\r\n",
        "marks = {'Vaishnavi': 98,'archana': 89, 'krutika': 40,'akanksha':100}\r\n",
        "for student in marks:\r\n",
        "    if student==student_name:\r\n",
        "        print(marks[student])\r\n",
        "        break\r\n",
        "else:\r\n",
        "        print(\"No entry found with such name\")  "
      ],
      "execution_count": null,
      "outputs": [
        {
          "output_type": "stream",
          "text": [
            "100\n"
          ],
          "name": "stdout"
        }
      ]
    },
    {
      "cell_type": "code",
      "metadata": {
        "colab": {
          "base_uri": "https://localhost:8080/"
        },
        "id": "rGJlKjPfk3aP",
        "outputId": "bb23020f-0e64-4168-d46a-709c0b6935f7"
      },
      "source": [
        "keys={'akanksha','vaishnavi','microspectra'}\r\n",
        "value=[1]\r\n",
        "vowels=dict.fromkeys(keys,value)\r\n",
        "print(vowels)\r\n",
        "value.append(2)\r\n",
        "print(vowels) #same values will be append to each key\r\n",
        "\r\n"
      ],
      "execution_count": 5,
      "outputs": [
        {
          "output_type": "stream",
          "text": [
            "{'vaishnavi': [1], 'akanksha': [1], 'microspectra': [1]}\n",
            "{'vaishnavi': [1, 2], 'akanksha': [1, 2], 'microspectra': [1, 2]}\n"
          ],
          "name": "stdout"
        }
      ]
    },
    {
      "cell_type": "code",
      "metadata": {
        "colab": {
          "base_uri": "https://localhost:8080/"
        },
        "id": "6V1GUXGVlYqQ",
        "outputId": "618cf20e-4e95-4a96-ac76-20f9164ca00c"
      },
      "source": [
        "people = {1: {'Name': 'John', 'Age': '27', 'Sex': 'Male'},2: {'Name': 'Marie', 'Age': '22', 'Sex': 'Female'}}\r\n",
        "x=people.items()\r\n",
        "print(x)\r\n",
        "for p_id in people.items():\r\n",
        "  print(p_id)\r\n",
        "for p_info in people.items():\r\n",
        "    print(p_info)"
      ],
      "execution_count": 6,
      "outputs": [
        {
          "output_type": "stream",
          "text": [
            "dict_items([(1, {'Name': 'John', 'Age': '27', 'Sex': 'Male'}), (2, {'Name': 'Marie', 'Age': '22', 'Sex': 'Female'})])\n",
            "(1, {'Name': 'John', 'Age': '27', 'Sex': 'Male'})\n",
            "(2, {'Name': 'Marie', 'Age': '22', 'Sex': 'Female'})\n",
            "(1, {'Name': 'John', 'Age': '27', 'Sex': 'Male'})\n",
            "(2, {'Name': 'Marie', 'Age': '22', 'Sex': 'Female'})\n"
          ],
          "name": "stdout"
        }
      ]
    },
    {
      "cell_type": "code",
      "metadata": {
        "colab": {
          "base_uri": "https://localhost:8080/"
        },
        "id": "H3jMWv-glhXs",
        "outputId": "27460eba-bfa7-4c67-c6d4-0f634f557c9a"
      },
      "source": [
        "people = {1: {'Name': 'John', 'Age': '27', 'Sex': 'Male'},2: {'Name': 'Marie', 'Age': '22', 'Sex': 'Female'}}\r\n",
        "for p_id, p_info in people.items():\r\n",
        "  #print(\"\\nPerson ID:\", p_id)\r\n",
        "  print(p_info)"
      ],
      "execution_count": 7,
      "outputs": [
        {
          "output_type": "stream",
          "text": [
            "{'Name': 'John', 'Age': '27', 'Sex': 'Male'}\n",
            "{'Name': 'Marie', 'Age': '22', 'Sex': 'Female'}\n"
          ],
          "name": "stdout"
        }
      ]
    }
  ]
}