{
  "nbformat": 4,
  "nbformat_minor": 0,
  "metadata": {
    "colab": {
      "name": "operators.ipynb",
      "provenance": [],
      "collapsed_sections": [],
      "authorship_tag": "ABX9TyOfZqQ+Jrwon/Q3N0rkESDB",
      "include_colab_link": true
    },
    "kernelspec": {
      "name": "python3",
      "display_name": "Python 3"
    }
  },
  "cells": [
    {
      "cell_type": "markdown",
      "metadata": {
        "id": "view-in-github",
        "colab_type": "text"
      },
      "source": [
        "<a href=\"https://colab.research.google.com/github/akankshawaghmare/Microspectra/blob/main/operators.ipynb\" target=\"_parent\"><img src=\"https://colab.research.google.com/assets/colab-badge.svg\" alt=\"Open In Colab\"/></a>"
      ]
    },
    {
      "cell_type": "code",
      "metadata": {
        "colab": {
          "base_uri": "https://localhost:8080/"
        },
        "id": "a04XpXvI5Es2",
        "outputId": "b65c15f7-8fc9-4ac4-8947-84f37d32a8e3"
      },
      "source": [
        "#program for average of two numbers\r\n",
        "a=input(\"Enter the first number : \")\r\n",
        "b=input(\"Enter the second number : \")\r\n",
        "sum=a+b\r\n",
        "x=int(sum)\r\n",
        "avg=x/2\r\n",
        "print(avg)"
      ],
      "execution_count": 4,
      "outputs": [
        {
          "output_type": "stream",
          "text": [
            "Enter the first number : 2\n",
            "Enter the second number : 2\n",
            "11.0\n"
          ],
          "name": "stdout"
        }
      ]
    },
    {
      "cell_type": "code",
      "metadata": {
        "colab": {
          "base_uri": "https://localhost:8080/"
        },
        "id": "RKuSa8Sv82ot",
        "outputId": "25815fd6-af8c-43d6-96ef-314118029896"
      },
      "source": [
        "#program for average of n numbers\r\n",
        "num=int(input(\"Enter how many numbers of average you required :\"))\r\n",
        "sum=0\r\n",
        "for i in range(num):\r\n",
        "  a=int(input(\"enter the numbers :\"))\r\n",
        "  sum +=a\r\n",
        "avg=sum/num\r\n",
        "print(\"The average of\",num,\"numbers is\", avg)"
      ],
      "execution_count": 46,
      "outputs": [
        {
          "output_type": "stream",
          "text": [
            "Enter how many numbers of average you required :4\n",
            "enter the numbers :12\n",
            "enter the numbers :34\n",
            "enter the numbers :56\n",
            "enter the numbers :89\n",
            "The average of 4 numbers is 47.75\n"
          ],
          "name": "stdout"
        }
      ]
    },
    {
      "cell_type": "code",
      "metadata": {
        "colab": {
          "base_uri": "https://localhost:8080/"
        },
        "id": "h-W-CISSJ9te",
        "outputId": "1bf847f8-381d-416a-fa13-ff70cc2124cd"
      },
      "source": [
        "#arithmetic operators\r\n",
        "a=10\r\n",
        "b=4\r\n",
        "print(a+b) #addition\r\n",
        "print(a-b) #substration\r\n",
        "print(a*b) #multiplication\r\n",
        "print(a/b) #division\r\n",
        "print(a%b) #modulus\r\n",
        "print(a**b)#exponentiation\r\n",
        "print(a//b)#floor_division"
      ],
      "execution_count": 53,
      "outputs": [
        {
          "output_type": "stream",
          "text": [
            "14\n",
            "6\n",
            "40\n",
            "2.5\n",
            "2\n",
            "10000\n",
            "2\n"
          ],
          "name": "stdout"
        }
      ]
    },
    {
      "cell_type": "code",
      "metadata": {
        "colab": {
          "base_uri": "https://localhost:8080/"
        },
        "id": "cvkxk3D7Lwe9",
        "outputId": "5792b97f-2215-49e0-fb6a-8cf775a50112"
      },
      "source": [
        "#Assignment operators\r\n",
        "x=5\r\n",
        "print(x) #5 is assigned to x"
      ],
      "execution_count": 54,
      "outputs": [
        {
          "output_type": "stream",
          "text": [
            "5\n"
          ],
          "name": "stdout"
        }
      ]
    },
    {
      "cell_type": "code",
      "metadata": {
        "colab": {
          "base_uri": "https://localhost:8080/"
        },
        "id": "o86MiQXeMNXB",
        "outputId": "6659524c-4e0e-4008-93df-23ea37cab6fb"
      },
      "source": [
        "#comparison operators\r\n",
        "a=10\r\n",
        "b=20\r\n",
        "print(a==b) #exactly equal to\r\n",
        "print(a!=b) #not equal to\r\n",
        "print(a>b)  #greater than\r\n",
        "print(a<b)  #less than\r\n",
        "print(a>=b) #greater than equal to\r\n",
        "print(a<=b) #less than equal to\r\n",
        "\r\n"
      ],
      "execution_count": 56,
      "outputs": [
        {
          "output_type": "stream",
          "text": [
            "False\n",
            "True\n",
            "False\n",
            "True\n",
            "False\n",
            "True\n"
          ],
          "name": "stdout"
        }
      ]
    }
  ]
}