{
  "nbformat": 4,
  "nbformat_minor": 0,
  "metadata": {
    "colab": {
      "name": "operators.ipynb",
      "provenance": [],
      "authorship_tag": "ABX9TyOZ6RfJW2xLcemu/kyXAGmb",
      "include_colab_link": true
    },
    "kernelspec": {
      "name": "python3",
      "display_name": "Python 3"
    }
  },
  "cells": [
    {
      "cell_type": "markdown",
      "metadata": {
        "id": "view-in-github",
        "colab_type": "text"
      },
      "source": [
        "<a href=\"https://colab.research.google.com/github/akankshawaghmare/Microspectra/blob/main/operators.ipynb\" target=\"_parent\"><img src=\"https://colab.research.google.com/assets/colab-badge.svg\" alt=\"Open In Colab\"/></a>"
      ]
    },
    {
      "cell_type": "code",
      "metadata": {
        "colab": {
          "base_uri": "https://localhost:8080/"
        },
        "id": "a04XpXvI5Es2",
        "outputId": "b65c15f7-8fc9-4ac4-8947-84f37d32a8e3"
      },
      "source": [
        "#program for average of two numbers\r\n",
        "a=input(\"Enter the first number : \")\r\n",
        "b=input(\"Enter the second number : \")\r\n",
        "sum=a+b\r\n",
        "x=int(sum)\r\n",
        "avg=x/2\r\n",
        "print(avg)"
      ],
      "execution_count": 4,
      "outputs": [
        {
          "output_type": "stream",
          "text": [
            "Enter the first number : 2\n",
            "Enter the second number : 2\n",
            "11.0\n"
          ],
          "name": "stdout"
        }
      ]
    }
  ]
}