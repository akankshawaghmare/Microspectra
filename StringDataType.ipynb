{
  "nbformat": 4,
  "nbformat_minor": 0,
  "metadata": {
    "colab": {
      "name": "StringDataType.ipynb",
      "provenance": [],
      "authorship_tag": "ABX9TyMT6hFmeJpdKcPXmSrXhzJO",
      "include_colab_link": true
    },
    "kernelspec": {
      "name": "python3",
      "display_name": "Python 3"
    }
  },
  "cells": [
    {
      "cell_type": "markdown",
      "metadata": {
        "id": "view-in-github",
        "colab_type": "text"
      },
      "source": [
        "<a href=\"https://colab.research.google.com/github/akankshawaghmare/Microspectra/blob/main/StringDataType.ipynb\" target=\"_parent\"><img src=\"https://colab.research.google.com/assets/colab-badge.svg\" alt=\"Open In Colab\"/></a>"
      ]
    },
    {
      "cell_type": "code",
      "metadata": {
        "colab": {
          "base_uri": "https://localhost:8080/"
        },
        "id": "rZqrws5qyVvw",
        "outputId": "c033d959-daff-4b3f-f484-9b5b3bb90578"
      },
      "source": [
        "#program on string data type\r\n",
        "string1=(\"Hi.. MY name is AKANKSHA.I am an intern at microspectra pvt.lmt\")\r\n",
        "print(string1)\r\n",
        "print(string1[0:8])\r\n",
        "print(string1[0: ])\r\n",
        "print(string1[9:19])\r\n",
        "print(string1[:16])\r\n",
        "print(string1[0: :3])"
      ],
      "execution_count": null,
      "outputs": [
        {
          "output_type": "stream",
          "text": [
            "Hi.. MY name is AKANKSHA.I am an intern at microspectra pvt.lmt\n",
            "Hi.. MY \n",
            "Hi.. MY name is AKANKSHA.I am an intern at microspectra pvt.lmt\n",
            "ame is AKA\n",
            "Hi.. MY name is \n",
            "H.Ya  AS.aaie  cscavl\n"
          ],
          "name": "stdout"
        }
      ]
    },
    {
      "cell_type": "code",
      "metadata": {
        "colab": {
          "base_uri": "https://localhost:8080/"
        },
        "id": "G5gpE14B5CGd",
        "outputId": "5ab42577-83d5-4302-c788-acd5a1064445"
      },
      "source": [
        "#program using escape sequence of string\r\n",
        "string2 =('My Name is \"\\AKANKSHA SANJAY WAGHMARE\\\"')\r\n",
        "print(string2)\r\n",
        "string2 =('\\nMy Name is \\\\\"AKANKSHA SANJAY WAGHMARE\\\\\"')#use of escape sequence\r\n",
        "print(string2)"
      ],
      "execution_count": null,
      "outputs": [
        {
          "output_type": "stream",
          "text": [
            "My Name is \"\\AKANKSHA SANJAY WAGHMARE\"\n",
            "\n",
            "My Name is \\\"AKANKSHA SANJAY WAGHMARE\\\"\n"
          ],
          "name": "stdout"
        }
      ]
    },
    {
      "cell_type": "code",
      "metadata": {
        "colab": {
          "base_uri": "https://localhost:8080/"
        },
        "id": "qRKCxbBB7iU4",
        "outputId": "c0b81fe0-1044-4196-87d2-d7de602db316"
      },
      "source": [
        "#program using format\r\n",
        "x=(\"my name is {} {} {}\".format('Akanksha','Sanjay','Waghmare')) #default order\r\n",
        "print(x)\r\n",
        "y=(\"My name is {2} {1} {0}\".format('AKANKSHA','Sanjay','Waghmare')) #positional formatting\r\n",
        "print(y)\r\n",
        "z=(\"my name is {s} {w} {a}\".format(a='akanksha',s='sanjay',w='waghmare')) #keyword formatting\r\n",
        "print(z)"
      ],
      "execution_count": null,
      "outputs": [
        {
          "output_type": "stream",
          "text": [
            "my name is Akanksha Sanjay Waghmare\n",
            "My name is Waghmare Sanjay AKANKSHA\n",
            "my name is sanjay waghmare akanksha\n"
          ],
          "name": "stdout"
        }
      ]
    },
    {
      "cell_type": "code",
      "metadata": {
        "colab": {
          "base_uri": "https://localhost:8080/"
        },
        "id": "Pr_cCC9kBPfc",
        "outputId": "960a342a-df28-42fd-8e72-278d7dea1da8"
      },
      "source": [
        "#program-\r\n",
        "mystring='akankshaWAGHMAREakanksha 9876543210'\r\n",
        "string='my name is'\r\n",
        "print(mystring.capitalize())\r\n",
        "print(mystring.upper())\r\n",
        "print(mystring.lower())\r\n",
        "print(mystring.title())\r\n",
        "print(mystring.find('WAGHMARE'))\r\n",
        "print(mystring.count('akanksha'))\r\n",
        "print(mystring.isalpha())\r\n",
        "print(mystring.isdigit())\r\n",
        "print(mystring.islower())\r\n",
        "print(mystring.isupper())\r\n",
        "print(string+'',mystring)\r\n",
        "print(string*3)\r\n",
        "print('akanksha' in mystring)\r\n",
        "print('x' not in mystring)\r\n",
        "\r\n",
        "\r\n"
      ],
      "execution_count": 16,
      "outputs": [
        {
          "output_type": "stream",
          "text": [
            "Akankshawaghmareakanksha 9876543210\n",
            "AKANKSHAWAGHMAREAKANKSHA 9876543210\n",
            "akankshawaghmareakanksha 9876543210\n",
            "Akankshawaghmareakanksha 9876543210\n",
            "8\n",
            "2\n",
            "False\n",
            "False\n",
            "False\n",
            "False\n",
            "my name is akankshaWAGHMAREakanksha 9876543210\n",
            "my name ismy name ismy name is\n",
            "True\n",
            "True\n"
          ],
          "name": "stdout"
        }
      ]
    }
  ]
}