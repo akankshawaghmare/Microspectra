{
  "nbformat": 4,
  "nbformat_minor": 0,
  "metadata": {
    "colab": {
      "name": "StringDataType.ipynb",
      "provenance": [],
      "authorship_tag": "ABX9TyP6f+qa+ZsxcuiohG8uG505",
      "include_colab_link": true
    },
    "kernelspec": {
      "name": "python3",
      "display_name": "Python 3"
    }
  },
  "cells": [
    {
      "cell_type": "markdown",
      "metadata": {
        "id": "view-in-github",
        "colab_type": "text"
      },
      "source": [
        "<a href=\"https://colab.research.google.com/github/akankshawaghmare/Microspectra/blob/main/StringDataType.ipynb\" target=\"_parent\"><img src=\"https://colab.research.google.com/assets/colab-badge.svg\" alt=\"Open In Colab\"/></a>"
      ]
    },
    {
      "cell_type": "code",
      "metadata": {
        "colab": {
          "base_uri": "https://localhost:8080/"
        },
        "id": "rZqrws5qyVvw",
        "outputId": "c033d959-daff-4b3f-f484-9b5b3bb90578"
      },
      "source": [
        "#program on string data type\r\n",
        "string1=(\"Hi.. MY name is AKANKSHA.I am an intern at microspectra pvt.lmt\")\r\n",
        "print(string1)\r\n",
        "print(string1[0:8])\r\n",
        "print(string1[0: ])\r\n",
        "print(string1[9:19])\r\n",
        "print(string1[:16])\r\n",
        "print(string1[0: :3])"
      ],
      "execution_count": 13,
      "outputs": [
        {
          "output_type": "stream",
          "text": [
            "Hi.. MY name is AKANKSHA.I am an intern at microspectra pvt.lmt\n",
            "Hi.. MY \n",
            "Hi.. MY name is AKANKSHA.I am an intern at microspectra pvt.lmt\n",
            "ame is AKA\n",
            "Hi.. MY name is \n",
            "H.Ya  AS.aaie  cscavl\n"
          ],
          "name": "stdout"
        }
      ]
    },
    {
      "cell_type": "code",
      "metadata": {
        "colab": {
          "base_uri": "https://localhost:8080/"
        },
        "id": "G5gpE14B5CGd",
        "outputId": "5ab42577-83d5-4302-c788-acd5a1064445"
      },
      "source": [
        "#program using escape sequence of string\r\n",
        "string2 =('My Name is \"\\AKANKSHA SANJAY WAGHMARE\\\"')\r\n",
        "print(string2)\r\n",
        "string2 =('\\nMy Name is \\\\\"AKANKSHA SANJAY WAGHMARE\\\\\"')#use of escape sequence\r\n",
        "print(string2)"
      ],
      "execution_count": 31,
      "outputs": [
        {
          "output_type": "stream",
          "text": [
            "My Name is \"\\AKANKSHA SANJAY WAGHMARE\"\n",
            "\n",
            "My Name is \\\"AKANKSHA SANJAY WAGHMARE\\\"\n"
          ],
          "name": "stdout"
        }
      ]
    },
    {
      "cell_type": "code",
      "metadata": {
        "colab": {
          "base_uri": "https://localhost:8080/"
        },
        "id": "qRKCxbBB7iU4",
        "outputId": "c0b81fe0-1044-4196-87d2-d7de602db316"
      },
      "source": [
        "#program using format\r\n",
        "x=(\"my name is {} {} {}\".format('Akanksha','Sanjay','Waghmare')) #default order\r\n",
        "print(x)\r\n",
        "y=(\"My name is {2} {1} {0}\".format('AKANKSHA','Sanjay','Waghmare')) #positional formatting\r\n",
        "print(y)\r\n",
        "z=(\"my name is {s} {w} {a}\".format(a='akanksha',s='sanjay',w='waghmare')) #keyword formatting\r\n",
        "print(z)"
      ],
      "execution_count": 43,
      "outputs": [
        {
          "output_type": "stream",
          "text": [
            "my name is Akanksha Sanjay Waghmare\n",
            "My name is Waghmare Sanjay AKANKSHA\n",
            "my name is sanjay waghmare akanksha\n"
          ],
          "name": "stdout"
        }
      ]
    },
    {
      "cell_type": "code",
      "metadata": {
        "colab": {
          "base_uri": "https://localhost:8080/"
        },
        "id": "Pr_cCC9kBPfc",
        "outputId": "5ed55332-bcf8-4df8-a937-43eadd6ab236"
      },
      "source": [
        "#program-\r\n",
        "mystring='akanksha WAGHMARE akanksha'\r\n",
        "print(mystring.capitalize())\r\n",
        "print(mystring.upper())\r\n",
        "print(mystring.lower())\r\n",
        "print(mystring.title())\r\n",
        "print(mystring.find('WAGHMARE'))\r\n",
        "print(mystring.count('akanksha'))\r\n"
      ],
      "execution_count": 58,
      "outputs": [
        {
          "output_type": "stream",
          "text": [
            "Akanksha waghmare akanksha\n",
            "AKANKSHA WAGHMARE AKANKSHA\n",
            "akanksha waghmare akanksha\n",
            "Akanksha Waghmare Akanksha\n",
            "9\n",
            "2\n"
          ],
          "name": "stdout"
        }
      ]
    }
  ]
}