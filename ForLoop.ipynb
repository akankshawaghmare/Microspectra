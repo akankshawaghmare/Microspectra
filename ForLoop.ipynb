{
  "nbformat": 4,
  "nbformat_minor": 0,
  "metadata": {
    "colab": {
      "name": "ForLoop.ipynb",
      "provenance": [],
      "authorship_tag": "ABX9TyOLDN4D8XmSP20vFACAMOo6",
      "include_colab_link": true
    },
    "kernelspec": {
      "name": "python3",
      "display_name": "Python 3"
    }
  },
  "cells": [
    {
      "cell_type": "markdown",
      "metadata": {
        "id": "view-in-github",
        "colab_type": "text"
      },
      "source": [
        "<a href=\"https://colab.research.google.com/github/akankshawaghmare/Microspectra/blob/main/ForLoop.ipynb\" target=\"_parent\"><img src=\"https://colab.research.google.com/assets/colab-badge.svg\" alt=\"Open In Colab\"/></a>"
      ]
    },
    {
      "cell_type": "code",
      "metadata": {
        "colab": {
          "base_uri": "https://localhost:8080/"
        },
        "id": "Y1RIPUrKGA8G",
        "outputId": "46068539-3951-4efb-e422-7bb772fefc2b"
      },
      "source": [
        "eve=[i for i in range(0,11,2)]\r\n",
        "print(eve)"
      ],
      "execution_count": null,
      "outputs": [
        {
          "output_type": "stream",
          "text": [
            "[0, 2, 4, 6, 8, 10]\n"
          ],
          "name": "stdout"
        }
      ]
    },
    {
      "cell_type": "code",
      "metadata": {
        "colab": {
          "base_uri": "https://localhost:8080/"
        },
        "id": "EWSlJt9FGBNh",
        "outputId": "969ef8bf-c0c1-48e2-d69f-42c365b5b5ab"
      },
      "source": [
        "for i in range(1, 5):\r\n",
        "    for j in range(1,i+1):\r\n",
        "         print(i, end=' ')\r\n",
        "    print()"
      ],
      "execution_count": null,
      "outputs": [
        {
          "output_type": "stream",
          "text": [
            "1 \n",
            "2 2 \n",
            "3 3 3 \n",
            "4 4 4 4 \n"
          ],
          "name": "stdout"
        }
      ]
    },
    {
      "cell_type": "code",
      "metadata": {
        "colab": {
          "base_uri": "https://localhost:8080/"
        },
        "id": "eJJTbCOjKZzX",
        "outputId": "99dfad89-4179-40bf-cd09-1254bb370084"
      },
      "source": [
        "#program for pattern printing using for_loop\r\n",
        "for a in range(1,6):\r\n",
        "  for b in range(1,a+1):\r\n",
        "    print(b,end=\" \")\r\n",
        "  print(\"\")\r\n"
      ],
      "execution_count": null,
      "outputs": [
        {
          "output_type": "stream",
          "text": [
            "1 \n",
            "1 2 \n",
            "1 2 3 \n",
            "1 2 3 4 \n",
            "1 2 3 4 5 \n"
          ],
          "name": "stdout"
        }
      ]
    },
    {
      "cell_type": "code",
      "metadata": {
        "colab": {
          "base_uri": "https://localhost:8080/"
        },
        "id": "w9rgK9YeLTaw",
        "outputId": "f55b3e7b-089e-4a2a-e6fe-886611eb86c1"
      },
      "source": [
        "for a in range(6,1,-1):\r\n",
        "  for b in range(1,a):\r\n",
        "    print(b,end=\" \")\r\n",
        "  print(\"\")"
      ],
      "execution_count": null,
      "outputs": [
        {
          "output_type": "stream",
          "text": [
            "1 2 3 4 5 \n",
            "1 2 3 4 \n",
            "1 2 3 \n",
            "1 2 \n",
            "1 \n"
          ],
          "name": "stdout"
        }
      ]
    },
    {
      "cell_type": "code",
      "metadata": {
        "colab": {
          "base_uri": "https://localhost:8080/"
        },
        "id": "QVRAIhkIOVUF",
        "outputId": "5413e92c-1f75-4a45-e69f-8f6fb4d2c9b0"
      },
      "source": [
        "#program for pattern printing using list\r\n",
        "list1=[]            \r\n",
        "for i in range(1,6):\r\n",
        "  list1.append('#'*i)\r\n",
        "print('\\n'.join(list1))"
      ],
      "execution_count": 3,
      "outputs": [
        {
          "output_type": "stream",
          "text": [
            "#\n",
            "##\n",
            "###\n",
            "####\n",
            "#####\n"
          ],
          "name": "stdout"
        }
      ]
    },
    {
      "cell_type": "code",
      "metadata": {
        "colab": {
          "base_uri": "https://localhost:8080/"
        },
        "id": "TxAKcATmPIxM",
        "outputId": "27776b71-7e26-4b78-bbc9-d47a49e9495e"
      },
      "source": [
        "list1=[]\r\n",
        "for i in range(6,0,-1):\r\n",
        "  list1.append('#'*i)\r\n",
        "print('\\n'.join(list1))"
      ],
      "execution_count": null,
      "outputs": [
        {
          "output_type": "stream",
          "text": [
            "######\n",
            "#####\n",
            "####\n",
            "###\n",
            "##\n",
            "#\n"
          ],
          "name": "stdout"
        }
      ]
    },
    {
      "cell_type": "code",
      "metadata": {
        "colab": {
          "base_uri": "https://localhost:8080/"
        },
        "id": "E7ManKofOot1",
        "outputId": "a1a6e897-b2ec-49ef-cf38-e45af990e121"
      },
      "source": [
        "num=int(input(\"enter the number of rows\"))\r\n",
        "for i in range(0,num):\r\n",
        "  for k in range(0,num-i- 1):\r\n",
        "    print(end=\" \")\r\n",
        "  for j in range(0,i+1):\r\n",
        "    print(j,end=\" \")\r\n",
        "  print()"
      ],
      "execution_count": null,
      "outputs": [
        {
          "output_type": "stream",
          "text": [
            "enter the number of rows9\n",
            "        0 \n",
            "       0 1 \n",
            "      0 1 2 \n",
            "     0 1 2 3 \n",
            "    0 1 2 3 4 \n",
            "   0 1 2 3 4 5 \n",
            "  0 1 2 3 4 5 6 \n",
            " 0 1 2 3 4 5 6 7 \n",
            "0 1 2 3 4 5 6 7 8 \n"
          ],
          "name": "stdout"
        }
      ]
    }
  ]
}