{
  "nbformat": 4,
  "nbformat_minor": 0,
  "metadata": {
    "colab": {
      "name": "DateTimeModule.ipynb",
      "provenance": [],
      "authorship_tag": "ABX9TyM+c9gPlIBRDuA20rhqEVLU",
      "include_colab_link": true
    },
    "kernelspec": {
      "name": "python3",
      "display_name": "Python 3"
    }
  },
  "cells": [
    {
      "cell_type": "markdown",
      "metadata": {
        "id": "view-in-github",
        "colab_type": "text"
      },
      "source": [
        "<a href=\"https://colab.research.google.com/github/akankshawaghmare/Microspectra/blob/main/DateTimeModule.ipynb\" target=\"_parent\"><img src=\"https://colab.research.google.com/assets/colab-badge.svg\" alt=\"Open In Colab\"/></a>"
      ]
    },
    {
      "cell_type": "markdown",
      "metadata": {
        "id": "vDOdAGGpAEqR"
      },
      "source": [
        "this is first prog"
      ]
    },
    {
      "cell_type": "code",
      "metadata": {
        "colab": {
          "base_uri": "https://localhost:8080/"
        },
        "id": "h84YRx2v_48O",
        "outputId": "38187da6-3461-4dc7-ed17-5c89c9f4af71"
      },
      "source": [
        "print(\"hello world\")"
      ],
      "execution_count": null,
      "outputs": [
        {
          "output_type": "stream",
          "text": [
            "hello world\n"
          ],
          "name": "stdout"
        }
      ]
    },
    {
      "cell_type": "code",
      "metadata": {
        "colab": {
          "base_uri": "https://localhost:8080/"
        },
        "id": "3cluCRWK9JsK",
        "outputId": "4d9cdb43-f23d-4528-8b83-b554fef2bc93"
      },
      "source": [
        "import time\r\n",
        "epoch=time.time()\r\n",
        "print(epoch)\r\n",
        "\r\n",
        "'''t=time.ctime(epoch)\r\n",
        "print(t)'''\r\n",
        "'''d=t.day\r\n",
        "m=t.month\r\n",
        "y=t.year'''\r\n",
        "t=time.localtime(epoch)\r\n",
        "d=t.tm_mday\r\n",
        "m=t.tm_mon\r\n",
        "y=t.tm_year\r\n",
        "print(\"current date is: %d -%d -%d\" %(d,m,y))\r\n",
        "h=t.tm_hour\r\n",
        "m=t.tm_min\r\n",
        "s=t.tm_sec\r\n",
        "print(\"current time i: %d : %d :%d\" %(h,m,s))\r\n",
        "\r\n",
        "\r\n"
      ],
      "execution_count": 6,
      "outputs": [
        {
          "output_type": "stream",
          "text": [
            "1611820533.9395247\n",
            "current date is: 28 -1 -2021\n",
            "current time i: 7 : 55 :33\n"
          ],
          "name": "stdout"
        }
      ]
    },
    {
      "cell_type": "code",
      "metadata": {
        "colab": {
          "base_uri": "https://localhost:8080/"
        },
        "id": "6ijr5u5ZALpY",
        "outputId": "cda80774-3e51-4c2a-ab6e-cae3d286c0ba"
      },
      "source": [
        "from datetime import *\r\n",
        "now1=datetime.now()\r\n",
        "print(now1)"
      ],
      "execution_count": 7,
      "outputs": [
        {
          "output_type": "stream",
          "text": [
            "2021-01-28 08:00:01.046020\n"
          ],
          "name": "stdout"
        }
      ]
    },
    {
      "cell_type": "code",
      "metadata": {
        "colab": {
          "base_uri": "https://localhost:8080/"
        },
        "id": "UwQsVbDMCcfO",
        "outputId": "59b1c879-5772-4825-8632-91faaf646d61"
      },
      "source": [
        "from datetime import datetime \r\n",
        "\r\n",
        "import pytz \r\n",
        "\r\n",
        "  \r\n",
        "# get the standard UTC time  \r\n",
        "\r\n",
        "\r\n",
        "\r\n",
        "IST = pytz.timezone('Asia/Kolkata') \r\n",
        "\r\n",
        "  \r\n",
        "\r\n",
        "print(\"IST in Default Format : \",  \r\n",
        "\r\n",
        "      datetime.now(IST)) \r\n",
        "\r\n",
        "  \r\n",
        "\r\n",
        "datetime_ist = datetime.now(IST) \r\n",
        "\r\n",
        "#print(\"Date & Time in IST : \",  \r\n",
        "\r\n",
        "#      datetime_ist.strftime('%Y:%m:%d %H:%M:%S %Z %z')) "
      ],
      "execution_count": 11,
      "outputs": [
        {
          "output_type": "stream",
          "text": [
            "IST in Default Format :  2021-01-28 13:40:57.292717+05:30\n"
          ],
          "name": "stdout"
        }
      ]
    }
  ]
}