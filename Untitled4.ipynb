{
  "nbformat": 4,
  "nbformat_minor": 0,
  "metadata": {
    "colab": {
      "name": "Untitled4.ipynb",
      "provenance": [],
      "authorship_tag": "ABX9TyMLwDnBYswdkS/UMzvPU9Rj",
      "include_colab_link": true
    },
    "kernelspec": {
      "name": "python3",
      "display_name": "Python 3"
    }
  },
  "cells": [
    {
      "cell_type": "markdown",
      "metadata": {
        "id": "view-in-github",
        "colab_type": "text"
      },
      "source": [
        "<a href=\"https://colab.research.google.com/github/akankshawaghmare/Microspectra/blob/main/Untitled4.ipynb\" target=\"_parent\"><img src=\"https://colab.research.google.com/assets/colab-badge.svg\" alt=\"Open In Colab\"/></a>"
      ]
    },
    {
      "cell_type": "code",
      "metadata": {
        "colab": {
          "base_uri": "https://localhost:8080/"
        },
        "id": "8cfjIqMwxj14",
        "outputId": "3425200a-b6de-4d9a-d67e-b2cf2136f542"
      },
      "source": [
        "inp = input(\"Enter your name\")\r\n",
        "print(inp)\r\n",
        "\r\n",
        "x=inp.strip()\r\n",
        "print(x)"
      ],
      "execution_count": 4,
      "outputs": [
        {
          "output_type": "stream",
          "text": [
            "Enter your name   vaishnavi\n",
            "   vaishnavi\n",
            "vaishnavi\n"
          ],
          "name": "stdout"
        }
      ]
    },
    {
      "cell_type": "code",
      "metadata": {
        "colab": {
          "base_uri": "https://localhost:8080/"
        },
        "id": "AKS-3dHKRkHz",
        "outputId": "9415d8fe-4db2-4b9b-e3f7-1148456102dd"
      },
      "source": [
        "people = {1: {'Name': 'John', 'Age': '27', 'Sex': 'Male'},\r\n",
        "2: {'Name': 'Marie', 'Age': '22', 'Sex': 'Female'}}\r\n",
        "x=people.items()\r\n",
        "print(x)\r\n",
        "for p_id in people.items():\r\n",
        "  print(p_id)\r\n",
        "for p_info in people.items():\r\n",
        "    print(p_info)"
      ],
      "execution_count": 14,
      "outputs": [
        {
          "output_type": "stream",
          "text": [
            "dict_items([(1, {'Name': 'John', 'Age': '27', 'Sex': 'Male'}), (2, {'Name': 'Marie', 'Age': '22', 'Sex': 'Female'})])\n",
            "(1, {'Name': 'John', 'Age': '27', 'Sex': 'Male'})\n",
            "(2, {'Name': 'Marie', 'Age': '22', 'Sex': 'Female'})\n",
            "(1, {'Name': 'John', 'Age': '27', 'Sex': 'Male'})\n",
            "(2, {'Name': 'Marie', 'Age': '22', 'Sex': 'Female'})\n"
          ],
          "name": "stdout"
        }
      ]
    },
    {
      "cell_type": "code",
      "metadata": {
        "colab": {
          "base_uri": "https://localhost:8080/"
        },
        "id": "c_Yh_sY_XCo4",
        "outputId": "96f2ea02-cb88-490a-fdb1-854ccc6f3990"
      },
      "source": [
        "people = {1: {'Name': 'John', 'Age': '27', 'Sex': 'Male'},\r\n",
        "2: {'Name': 'Marie', 'Age': '22', 'Sex': 'Female'}}\r\n",
        "for p_id, p_info in people.items():\r\n",
        "  #print(\"\\nPerson ID:\", p_id)\r\n",
        "  print(p_info)"
      ],
      "execution_count": 20,
      "outputs": [
        {
          "output_type": "stream",
          "text": [
            "{'Name': 'John', 'Age': '27', 'Sex': 'Male'}\n",
            "{'Name': 'Marie', 'Age': '22', 'Sex': 'Female'}\n"
          ],
          "name": "stdout"
        }
      ]
    }
  ]
}