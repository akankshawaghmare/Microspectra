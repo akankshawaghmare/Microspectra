{
  "nbformat": 4,
  "nbformat_minor": 0,
  "metadata": {
    "colab": {
      "name": "ClassObjects.ipynb",
      "provenance": [],
      "authorship_tag": "ABX9TyPAUq6KED/cLBBs4dvZXDVs",
      "include_colab_link": true
    },
    "kernelspec": {
      "name": "python3",
      "display_name": "Python 3"
    }
  },
  "cells": [
    {
      "cell_type": "markdown",
      "metadata": {
        "id": "view-in-github",
        "colab_type": "text"
      },
      "source": [
        "<a href=\"https://colab.research.google.com/github/akankshawaghmare/Microspectra/blob/main/ClassObjects.ipynb\" target=\"_parent\"><img src=\"https://colab.research.google.com/assets/colab-badge.svg\" alt=\"Open In Colab\"/></a>"
      ]
    },
    {
      "cell_type": "code",
      "metadata": {
        "colab": {
          "base_uri": "https://localhost:8080/"
        },
        "id": "dtVARIXzeTUG",
        "outputId": "1cf65c37-1355-43f2-b842-b7f19bba7108"
      },
      "source": [
        "class addition:\r\n",
        "  def add(self,a,b):\r\n",
        "    return a+b\r\n",
        "x=addition()\r\n",
        "x.add(10,20)"
      ],
      "execution_count": null,
      "outputs": [
        {
          "output_type": "execute_result",
          "data": {
            "text/plain": [
              "30"
            ]
          },
          "metadata": {
            "tags": []
          },
          "execution_count": 4
        }
      ]
    },
    {
      "cell_type": "code",
      "metadata": {
        "colab": {
          "base_uri": "https://localhost:8080/"
        },
        "id": "tXL6QHhlfZ_I",
        "outputId": "da59df4a-5515-498b-e153-6c0cf4c0a590"
      },
      "source": [
        "class student:\r\n",
        "  def msg(self):\r\n",
        "    print(\"hii everyone\")\r\n",
        "x=student()\r\n",
        "x.msg()"
      ],
      "execution_count": null,
      "outputs": [
        {
          "output_type": "stream",
          "text": [
            "hii everyone\n"
          ],
          "name": "stdout"
        }
      ]
    },
    {
      "cell_type": "code",
      "metadata": {
        "colab": {
          "base_uri": "https://localhost:8080/"
        },
        "id": "4X5jKVhjgkoV",
        "outputId": "1a3a5520-0881-44a1-cfee-9d92f8a459c8"
      },
      "source": [
        "class simple:\r\n",
        "  def func(abc,name,surname):\r\n",
        "    abc.name=name\r\n",
        "    abc.surname=surname\r\n",
        "    return name,surname\r\n",
        "x=simple()\r\n",
        "x.func(\"Katrina\",\"Kaif\")\r\n",
        "print(x.name)\r\n",
        "print(x.surname)"
      ],
      "execution_count": 1,
      "outputs": [
        {
          "output_type": "stream",
          "text": [
            "Katrina\n",
            "Kaif\n"
          ],
          "name": "stdout"
        }
      ]
    },
    {
      "cell_type": "code",
      "metadata": {
        "colab": {
          "base_uri": "https://localhost:8080/"
        },
        "id": "kwngDzzpxJ_5",
        "outputId": "2e1f7f92-4756-499b-b106-45bb457a95c7"
      },
      "source": [
        "class function:\r\n",
        "  import collections\r\n",
        "  def fun(self):\r\n",
        "    list1=[1,2,3,4,5,6,7,8]\r\n",
        "    list2=[10,10,20,20,30,30,40,40,50,50,60,60,70,70,80,80]\r\n",
        "    if collections.Counter(list1) == collections.Counter(list2):\r\n",
        "      print(\"lists have same number of elements\")\r\n",
        "    else :\r\n",
        "      print(\"lists are not equal\")\r\n",
        "    return\r\n",
        "  def funn(self):\r\n",
        "    list1=[1,2,3,4,5,6,7,8]\r\n",
        "    list2=[10,10,20,20,30,30,40,40,50,50,60,60,70,70,80,80]\r\n",
        "    a=set(list1)\r\n",
        "    b=set(list2)\r\n",
        "    if len(a) is len(b) :\r\n",
        "      print(\"Now lists have same number of elements after converting\")\r\n",
        "      u=list(a)\r\n",
        "      v=list(b)\r\n",
        "      print(u,v)\r\n",
        "      z=dict(zip(u,v))\r\n",
        "      print(z)\r\n",
        "    else :\r\n",
        "      print(\"lists are not equal\")\r\n",
        "    return\r\n",
        "\r\n",
        "\r\n",
        "x=function()\r\n",
        "y=function()\r\n",
        "x.fun()\r\n",
        "y.funn()\r\n",
        "\r\n",
        "  \r\n"
      ],
      "execution_count": 39,
      "outputs": [
        {
          "output_type": "stream",
          "text": [
            "lists are not equal\n",
            "Now lists have same number of elements after converting\n",
            "[1, 2, 3, 4, 5, 6, 7, 8] [70, 40, 10, 80, 50, 20, 60, 30]\n",
            "{1: 70, 2: 40, 3: 10, 4: 80, 5: 50, 6: 20, 7: 60, 8: 30}\n"
          ],
          "name": "stdout"
        }
      ]
    },
    {
      "cell_type": "code",
      "metadata": {
        "colab": {
          "base_uri": "https://localhost:8080/",
          "height": 212
        },
        "id": "sdFToSwLJiep",
        "outputId": "54cdb038-a4da-4873-d64d-bb5cc3606e81"
      },
      "source": [
        "for i in range(3):\r\n",
        "    data = input().split(' ')\r\n",
        "    d[data[0]] = int(data[1])"
      ],
      "execution_count": 41,
      "outputs": [
        {
          "output_type": "stream",
          "text": [
            "123\n"
          ],
          "name": "stdout"
        },
        {
          "output_type": "error",
          "ename": "IndexError",
          "evalue": "ignored",
          "traceback": [
            "\u001b[0;31m---------------------------------------------------------------------------\u001b[0m",
            "\u001b[0;31mIndexError\u001b[0m                                Traceback (most recent call last)",
            "\u001b[0;32m<ipython-input-41-2f0da7e8ea41>\u001b[0m in \u001b[0;36m<module>\u001b[0;34m()\u001b[0m\n\u001b[1;32m      1\u001b[0m \u001b[0;32mfor\u001b[0m \u001b[0mi\u001b[0m \u001b[0;32min\u001b[0m \u001b[0mrange\u001b[0m\u001b[0;34m(\u001b[0m\u001b[0;36m3\u001b[0m\u001b[0;34m)\u001b[0m\u001b[0;34m:\u001b[0m\u001b[0;34m\u001b[0m\u001b[0;34m\u001b[0m\u001b[0m\n\u001b[1;32m      2\u001b[0m     \u001b[0mdata\u001b[0m \u001b[0;34m=\u001b[0m \u001b[0minput\u001b[0m\u001b[0;34m(\u001b[0m\u001b[0;34m)\u001b[0m\u001b[0;34m.\u001b[0m\u001b[0msplit\u001b[0m\u001b[0;34m(\u001b[0m\u001b[0;34m' '\u001b[0m\u001b[0;34m)\u001b[0m\u001b[0;34m\u001b[0m\u001b[0;34m\u001b[0m\u001b[0m\n\u001b[0;32m----> 3\u001b[0;31m     \u001b[0md\u001b[0m\u001b[0;34m[\u001b[0m\u001b[0mdata\u001b[0m\u001b[0;34m[\u001b[0m\u001b[0;36m0\u001b[0m\u001b[0;34m]\u001b[0m\u001b[0;34m]\u001b[0m \u001b[0;34m=\u001b[0m \u001b[0mint\u001b[0m\u001b[0;34m(\u001b[0m\u001b[0mdata\u001b[0m\u001b[0;34m[\u001b[0m\u001b[0;36m1\u001b[0m\u001b[0;34m]\u001b[0m\u001b[0;34m)\u001b[0m\u001b[0;34m\u001b[0m\u001b[0;34m\u001b[0m\u001b[0m\n\u001b[0m",
            "\u001b[0;31mIndexError\u001b[0m: list index out of range"
          ]
        }
      ]
    },
    {
      "cell_type": "code",
      "metadata": {
        "colab": {
          "base_uri": "https://localhost:8080/"
        },
        "id": "CiXVWnl6LhAW",
        "outputId": "0d6744c6-011e-467e-bef4-5a66ca49a6fc"
      },
      "source": [
        "list1=[1,2,3,4,5,6,7,8]\r\n",
        "list2=[10,10,20,20,30,30,40,40,50,50,60,60,70,70,80,80]\r\n",
        "u=set(list1)\r\n",
        "v=set(list2)\r\n",
        "x=lambda a,b: len(a) is len(b)\r\n",
        "print(x(u,v))"
      ],
      "execution_count": 47,
      "outputs": [
        {
          "output_type": "stream",
          "text": [
            "True\n"
          ],
          "name": "stdout"
        }
      ]
    }
  ]
}