{
  "nbformat": 4,
  "nbformat_minor": 0,
  "metadata": {
    "colab": {
      "name": "listDataType.ipynb",
      "provenance": [],
      "authorship_tag": "ABX9TyNcDRzPeGveYvqca1fsapms",
      "include_colab_link": true
    },
    "kernelspec": {
      "name": "python3",
      "display_name": "Python 3"
    }
  },
  "cells": [
    {
      "cell_type": "markdown",
      "metadata": {
        "id": "view-in-github",
        "colab_type": "text"
      },
      "source": [
        "<a href=\"https://colab.research.google.com/github/akankshawaghmare/Microspectra/blob/main/listDataType.ipynb\" target=\"_parent\"><img src=\"https://colab.research.google.com/assets/colab-badge.svg\" alt=\"Open In Colab\"/></a>"
      ]
    },
    {
      "cell_type": "code",
      "metadata": {
        "colab": {
          "base_uri": "https://localhost:8080/"
        },
        "id": "SmS6-lNZzgDf",
        "outputId": "ec0b4683-da04-449a-a242-2e688f159e62"
      },
      "source": [
        "#programs on list using range function\r\n",
        "list1 = []\r\n",
        "num1 = int(input('Enter size of list 1: '))\r\n",
        "for n in range(num1):\r\n",
        "    x = int(input('Enter any number:'))\r\n",
        "    list1.append(x)\r\n",
        " \r\n",
        "list2 = []\r\n",
        "num2 = int(input('Enter size of list 2:'))\r\n",
        "for n in range(num2):\r\n",
        "    y = int(input('Enter any number:'))\r\n",
        "    list2.append(y)\r\n",
        " \r\n",
        "union = list(set().union(list1,list21))\r\n",
        " \r\n",
        "print('The Union of two lists is:',union)"
      ],
      "execution_count": 1,
      "outputs": [
        {
          "output_type": "stream",
          "text": [
            "Enter size of list 1: 3\n",
            "Enter any number:11\n",
            "Enter any number:12\n",
            "Enter any number:13\n",
            "Enter size of list 2:2\n",
            "Enter any number:14\n",
            "Enter any number:5\n",
            "The Union of two lists is: [5, 11, 12, 13, 14]\n"
          ],
          "name": "stdout"
        }
      ]
    },
    {
      "cell_type": "code",
      "metadata": {
        "colab": {
          "base_uri": "https://localhost:8080/"
        },
        "id": "bZYjTJ1d2OlR",
        "outputId": "c5c5fae9-c255-4398-b9d1-a9af1fd2d26b"
      },
      "source": [
        "names=['akanksha','vaishnavi','krutika','archana']\r\n",
        "x=input('Enter the name you want :')\r\n",
        "if x in names :\r\n",
        "  print('you entered the name : ',x)\r\n",
        "else:\r\n",
        "  print('The name you have entered is not present')\r\n",
        "names.reverse()\r\n",
        "print(names)"
      ],
      "execution_count": 5,
      "outputs": [
        {
          "output_type": "stream",
          "text": [
            "Enter the name you want :akanksha\n",
            "you entered the name :  akanksha\n",
            "['archana', 'krutika', 'vaishnavi', 'akanksha']\n"
          ],
          "name": "stdout"
        }
      ]
    },
    {
      "cell_type": "code",
      "metadata": {
        "colab": {
          "base_uri": "https://localhost:8080/"
        },
        "id": "YYrDNXGf33hw",
        "outputId": "ccdce959-d341-4977-8dd1-f96d08a6e449"
      },
      "source": [
        "#program for addition of the list elements\r\n",
        "list0=[]\r\n",
        "sum=0\r\n",
        "n=int(input(\"enter number of item in list\"))\r\n",
        "for i in range(0,n):\r\n",
        "   a=int(input())\r\n",
        "   list0.append(a)\r\n",
        "print(\"list = \",list0)\r\n",
        "for i in range(0,len(list0)):\r\n",
        "  sum=sum+list0[i]\r\n",
        "  \r\n",
        "print(\"sum of items in list is: \",sum)"
      ],
      "execution_count": 7,
      "outputs": [
        {
          "output_type": "stream",
          "text": [
            "enter number of item in list3\n",
            "2\n",
            "2\n",
            "2\n",
            "list =  [2, 2, 2]\n",
            "sum of items in list is:  6\n"
          ],
          "name": "stdout"
        }
      ]
    },
    {
      "cell_type": "code",
      "metadata": {
        "colab": {
          "base_uri": "https://localhost:8080/"
        },
        "id": "kdF4k85V48E-",
        "outputId": "7872ae60-ce81-44db-fc3c-f1fe546b83d9"
      },
      "source": [
        "#program for even numbers\r\n",
        "numbers=[1,2,3,4,5,6,7,8,9,10,11,12,13,14,15]\r\n",
        "for i in numbers :\r\n",
        "  if i % 2 == 0 :\r\n",
        "    print(numbers[i])\r\n"
      ],
      "execution_count": 20,
      "outputs": [
        {
          "output_type": "stream",
          "text": [
            "3\n",
            "5\n",
            "7\n",
            "9\n",
            "11\n",
            "13\n",
            "15\n"
          ],
          "name": "stdout"
        }
      ]
    }
  ]
}