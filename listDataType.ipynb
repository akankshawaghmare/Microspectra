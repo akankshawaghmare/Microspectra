{
  "nbformat": 4,
  "nbformat_minor": 0,
  "metadata": {
    "colab": {
      "name": "listDataType.ipynb",
      "provenance": [],
      "authorship_tag": "ABX9TyMuUIbkwC1F518NCz8XRM6b",
      "include_colab_link": true
    },
    "kernelspec": {
      "name": "python3",
      "display_name": "Python 3"
    }
  },
  "cells": [
    {
      "cell_type": "markdown",
      "metadata": {
        "id": "view-in-github",
        "colab_type": "text"
      },
      "source": [
        "<a href=\"https://colab.research.google.com/github/akankshawaghmare/Microspectra/blob/main/listDataType.ipynb\" target=\"_parent\"><img src=\"https://colab.research.google.com/assets/colab-badge.svg\" alt=\"Open In Colab\"/></a>"
      ]
    },
    {
      "cell_type": "code",
      "metadata": {
        "colab": {
          "base_uri": "https://localhost:8080/"
        },
        "id": "SmS6-lNZzgDf",
        "outputId": "ec0b4683-da04-449a-a242-2e688f159e62"
      },
      "source": [
        "#programs on list using range function\r\n",
        "list1 = []\r\n",
        "num1 = int(input('Enter size of list 1: '))\r\n",
        "for n in range(num1):\r\n",
        "    x = int(input('Enter any number:'))\r\n",
        "    list1.append(x)\r\n",
        " \r\n",
        "list2 = []\r\n",
        "num2 = int(input('Enter size of list 2:'))\r\n",
        "for n in range(num2):\r\n",
        "    y = int(input('Enter any number:'))\r\n",
        "    list2.append(y)\r\n",
        " \r\n",
        "union = list(set().union(list1,list21))\r\n",
        " \r\n",
        "print('The Union of two lists is:',union)"
      ],
      "execution_count": null,
      "outputs": [
        {
          "output_type": "stream",
          "text": [
            "Enter size of list 1: 3\n",
            "Enter any number:11\n",
            "Enter any number:12\n",
            "Enter any number:13\n",
            "Enter size of list 2:2\n",
            "Enter any number:14\n",
            "Enter any number:5\n",
            "The Union of two lists is: [5, 11, 12, 13, 14]\n"
          ],
          "name": "stdout"
        }
      ]
    },
    {
      "cell_type": "code",
      "metadata": {
        "id": "-sRm3agzkK06",
        "colab": {
          "base_uri": "https://localhost:8080/"
        },
        "outputId": "daf68830-231b-4b38-a0a1-52272974d483"
      },
      "source": [
        "name=['vaishnavi','krutika','shivani','akanksha','archana','yogita','arpita']\r\n",
        "for friend in range(len(name)):\r\n",
        "    print(\"my friend's name is\", name[friend])\r\n",
        "num=[]\r\n",
        "sum=0\r\n",
        "for i in range(1,10000000):\r\n",
        "    sum=sum + i\r\n",
        "print(sum)\r\n",
        "cubes=[]\r\n",
        "for value in range(1,11):\r\n",
        "    c=value ** 3\r\n",
        "    cubes.append(c)\r\n",
        "print(cubes)\r\n",
        "cubes=[value**3 for value in range(1,11)]\r\n",
        "print(cubes)"
      ],
      "execution_count": null,
      "outputs": [
        {
          "output_type": "stream",
          "text": [
            "my friend's name is vaishnavi\n",
            "my friend's name is krutika\n",
            "my friend's name is shivani\n",
            "my friend's name is akanksha\n",
            "my friend's name is archana\n",
            "my friend's name is yogita\n",
            "my friend's name is arpita\n",
            "49999995000000\n",
            "[1, 8, 27, 64, 125, 216, 343, 512, 729, 1000]\n",
            "[1, 8, 27, 64, 125, 216, 343, 512, 729, 1000]\n"
          ],
          "name": "stdout"
        }
      ]
    },
    {
      "cell_type": "code",
      "metadata": {
        "colab": {
          "base_uri": "https://localhost:8080/"
        },
        "id": "bZYjTJ1d2OlR",
        "outputId": "c5c5fae9-c255-4398-b9d1-a9af1fd2d26b"
      },
      "source": [
        "names=['akanksha','vaishnavi','krutika','archana']\r\n",
        "x=input('Enter the name you want :')\r\n",
        "if x in names :\r\n",
        "  print('you entered the name : ',x)\r\n",
        "else:\r\n",
        "  print('The name you have entered is not present')\r\n",
        "names.reverse()\r\n",
        "print(names)"
      ],
      "execution_count": null,
      "outputs": [
        {
          "output_type": "stream",
          "text": [
            "Enter the name you want :akanksha\n",
            "you entered the name :  akanksha\n",
            "['archana', 'krutika', 'vaishnavi', 'akanksha']\n"
          ],
          "name": "stdout"
        }
      ]
    },
    {
      "cell_type": "code",
      "metadata": {
        "colab": {
          "base_uri": "https://localhost:8080/"
        },
        "id": "YYrDNXGf33hw",
        "outputId": "ccdce959-d341-4977-8dd1-f96d08a6e449"
      },
      "source": [
        "#program for addition of the list elements\r\n",
        "list0=[]\r\n",
        "sum=0\r\n",
        "n=int(input(\"enter number of item in list\"))\r\n",
        "for i in range(0,n):\r\n",
        "   a=int(input())\r\n",
        "   list0.append(a)\r\n",
        "print(\"list = \",list0)\r\n",
        "for i in range(0,len(list0)):\r\n",
        "  sum=sum+list0[i]\r\n",
        "  \r\n",
        "print(\"sum of items in list is: \",sum)"
      ],
      "execution_count": null,
      "outputs": [
        {
          "output_type": "stream",
          "text": [
            "enter number of item in list3\n",
            "2\n",
            "2\n",
            "2\n",
            "list =  [2, 2, 2]\n",
            "sum of items in list is:  6\n"
          ],
          "name": "stdout"
        }
      ]
    },
    {
      "cell_type": "code",
      "metadata": {
        "colab": {
          "base_uri": "https://localhost:8080/"
        },
        "id": "kdF4k85V48E-",
        "outputId": "b403d277-42ad-43f5-aea6-e61d6adabddf"
      },
      "source": [
        "#program for even numbers\r\n",
        "numbers=[1,2,3,4,5,6,7,8,9,10,11,12,13,14,15]\r\n",
        "for i in numbers :\r\n",
        "  if i % 2 == 0 :\r\n",
        "    print(numbers[i])\r\n"
      ],
      "execution_count": null,
      "outputs": [
        {
          "output_type": "stream",
          "text": [
            "3\n",
            "5\n",
            "7\n",
            "9\n",
            "11\n",
            "13\n",
            "15\n"
          ],
          "name": "stdout"
        }
      ]
    },
    {
      "cell_type": "code",
      "metadata": {
        "colab": {
          "base_uri": "https://localhost:8080/"
        },
        "id": "KOPPsYhF3Us8",
        "outputId": "c98d71a9-37ea-45a4-eeaa-e977c2623578"
      },
      "source": [
        "num = [1,2,3,4,5,6,7,8,9,10]\r\n",
        "eve=[]\r\n",
        "for i in num:\r\n",
        "  if i%2==0:\r\n",
        "    print(i)\r\n",
        "  #  eve.append(i)\r\n",
        "\r\n",
        "#print(eve)\r\n"
      ],
      "execution_count": null,
      "outputs": [
        {
          "output_type": "stream",
          "text": [
            "2\n",
            "4\n",
            "6\n",
            "8\n",
            "10\n",
            "[]\n"
          ],
          "name": "stdout"
        }
      ]
    },
    {
      "cell_type": "code",
      "metadata": {
        "colab": {
          "base_uri": "https://localhost:8080/"
        },
        "id": "hR9KO8MrfyMe",
        "outputId": "d883f07e-a099-4554-b15a-18ace3cabd8e"
      },
      "source": [
        "list1 = [10, 21, 4, 45, 66, 93] \r\n",
        "even_nos = [num for num in list1 if num % 2 == 0]  #list comprehension for even numbers\r\n",
        "  \r\n",
        "print(\"Even numbers in the list: \", even_nos) "
      ],
      "execution_count": 2,
      "outputs": [
        {
          "output_type": "stream",
          "text": [
            "Even numbers in the list:  [10, 4, 66]\n"
          ],
          "name": "stdout"
        }
      ]
    },
    {
      "cell_type": "code",
      "metadata": {
        "id": "YFceY-z_f4rh"
      },
      "source": [
        "eve=[i for i in range(0,11,2)] #list comprehension for even number in another way\r\n",
        "print(eve)"
      ],
      "execution_count": null,
      "outputs": []
    }
  ]
}