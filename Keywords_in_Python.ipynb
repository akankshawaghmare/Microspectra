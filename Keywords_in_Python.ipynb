{
  "nbformat": 4,
  "nbformat_minor": 0,
  "metadata": {
    "colab": {
      "name": "Keywords in Python.ipynb",
      "provenance": [],
      "collapsed_sections": [],
      "include_colab_link": true
    },
    "kernelspec": {
      "display_name": "Python 3",
      "name": "python3"
    }
  },
  "cells": [
    {
      "cell_type": "markdown",
      "metadata": {
        "id": "view-in-github",
        "colab_type": "text"
      },
      "source": [
        "<a href=\"https://colab.research.google.com/github/akankshawaghmare/Microspectra/blob/main/Keywords_in_Python.ipynb\" target=\"_parent\"><img src=\"https://colab.research.google.com/assets/colab-badge.svg\" alt=\"Open In Colab\"/></a>"
      ]
    },
    {
      "cell_type": "markdown",
      "metadata": {
        "id": "j32t7zMwKkij"
      },
      "source": [
        "**Keywords or Reserved words** are the words that are already reserved for some particular purpose in the Python \n",
        "\n",
        "the Name of this reserved words should not be used as identifier "
      ]
    },
    {
      "cell_type": "markdown",
      "metadata": {
        "id": "Xtc0XNZPMHUG"
      },
      "source": [
        "# New Section"
      ]
    },
    {
      "cell_type": "code",
      "metadata": {
        "colab": {
          "base_uri": "https://localhost:8080/"
        },
        "id": "HQuepFBIMlgI",
        "outputId": "7b467d10-8e3b-46d2-9da6-347cd8709d8e"
      },
      "source": [
        "import keyword\n",
        "print(keyword.kwlist)"
      ],
      "execution_count": null,
      "outputs": [
        {
          "output_type": "stream",
          "text": [
            "['False', 'None', 'True', 'and', 'as', 'assert', 'break', 'class', 'continue', 'def', 'del', 'elif', 'else', 'except', 'finally', 'for', 'from', 'global', 'if', 'import', 'in', 'is', 'lambda', 'nonlocal', 'not', 'or', 'pass', 'raise', 'return', 'try', 'while', 'with', 'yield']\n"
          ],
          "name": "stdout"
        }
      ]
    },
    {
      "cell_type": "markdown",
      "metadata": {
        "id": "dCzQ-mqDXPCa"
      },
      "source": [
        "![picture](https://makemeanalyst.com/wp-content/uploads/2017/06/keywords-python.png)"
      ]
    },
    {
      "cell_type": "markdown",
      "metadata": {
        "id": "dO_01FkPVfpX"
      },
      "source": [
        "# **Keyword Explanation**\n",
        "\n",
        "**1) True**:- IT represents the Boolean true, if the given condition is true,then it returns \"True\". Non-zero values are treated as true.\n",
        "\n",
        "**2) False:-** It represents the Boolean false;if the given condition is false, then it returns \"False\". Zero value is treated as false.\n",
        "\n",
        "**3) None:-** It denotes the null value or void.An empty list or zero cant be treated as None.\n",
        "\n",
        "**4) and:-** It is a logical operator. It is used to check the multiple conditions. It returns true if both conditions are true. Consider the following truth table.\n",
        "\n"
      ]
    },
    {
      "cell_type": "markdown",
      "metadata": {
        "id": "0GPcAjnzXKgS"
      },
      "source": [
        "![picture](https://encrypted-tbn0.gstatic.com/images?q=tbn:ANd9GcTZ_5_hVO__oikbbqSNoC3jDG271-zAGdwSgg&usqp=CAU)"
      ]
    },
    {
      "cell_type": "markdown",
      "metadata": {
        "id": "BC3x_fFvXZjf"
      },
      "source": [
        "**5) or:-**It is a logical operator in Python. It returns true if one of the conditions is true. Consider the following truth table."
      ]
    },
    {
      "cell_type": "markdown",
      "metadata": {
        "id": "t06ZK9JlX04D"
      },
      "source": [
        "![picture](data:image/png;base64,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)"
      ]
    },
    {
      "cell_type": "markdown",
      "metadata": {
        "id": "7ejAs74YYGTQ"
      },
      "source": [
        "**6) not:-**It is a logical operator and inverts the truth value. Consider the following table."
      ]
    },
    {
      "cell_type": "markdown",
      "metadata": {
        "id": "ZbsaAPguYhZX"
      },
      "source": [
        "![picture](https://encrypted-tbn0.gstatic.com/images?q=tbn:ANd9GcR0pgUD1gBoW7qVCFQkHfo_me2vcrJYc4SFOQ&usqp=CAU)"
      ]
    },
    {
      "cell_type": "markdown",
      "metadata": {
        "id": "XEBDxUiYYnCA"
      },
      "source": [
        "**7) assert:-**This Keyword is used as the debugging tool in Python. It checks the correctness of the code. It raises an AssertionError if found any error in the code and also prints the message with an error."
      ]
    },
    {
      "cell_type": "code",
      "metadata": {
        "colab": {
          "base_uri": "https://localhost:8080/",
          "height": 229
        },
        "id": "oHEnCKmeY66a",
        "outputId": "5c4908d3-4ba5-4571-9206-b70fb7efac99"
      },
      "source": [
        "a = 10  \n",
        "b = 0  \n",
        "print('a is dividing by Zero')  \n",
        "assert b != 0  \n",
        "print(a / b)  "
      ],
      "execution_count": null,
      "outputs": [
        {
          "output_type": "stream",
          "text": [
            "a is dividing by Zero\n"
          ],
          "name": "stdout"
        },
        {
          "output_type": "error",
          "ename": "AssertionError",
          "evalue": "ignored",
          "traceback": [
            "\u001b[0;31m---------------------------------------------------------------------------\u001b[0m",
            "\u001b[0;31mAssertionError\u001b[0m                            Traceback (most recent call last)",
            "\u001b[0;32m<ipython-input-7-222c798b4cf8>\u001b[0m in \u001b[0;36m<module>\u001b[0;34m()\u001b[0m\n\u001b[1;32m      2\u001b[0m \u001b[0mb\u001b[0m \u001b[0;34m=\u001b[0m \u001b[0;36m0\u001b[0m\u001b[0;34m\u001b[0m\u001b[0;34m\u001b[0m\u001b[0m\n\u001b[1;32m      3\u001b[0m \u001b[0mprint\u001b[0m\u001b[0;34m(\u001b[0m\u001b[0;34m'a is dividing by Zero'\u001b[0m\u001b[0;34m)\u001b[0m\u001b[0;34m\u001b[0m\u001b[0;34m\u001b[0m\u001b[0m\n\u001b[0;32m----> 4\u001b[0;31m \u001b[0;32massert\u001b[0m \u001b[0mb\u001b[0m \u001b[0;34m!=\u001b[0m \u001b[0;36m0\u001b[0m\u001b[0;34m\u001b[0m\u001b[0;34m\u001b[0m\u001b[0m\n\u001b[0m\u001b[1;32m      5\u001b[0m \u001b[0mprint\u001b[0m\u001b[0;34m(\u001b[0m\u001b[0ma\u001b[0m \u001b[0;34m/\u001b[0m \u001b[0mb\u001b[0m\u001b[0;34m)\u001b[0m\u001b[0;34m\u001b[0m\u001b[0;34m\u001b[0m\u001b[0m\n",
            "\u001b[0;31mAssertionError\u001b[0m: "
          ]
        }
      ]
    },
    {
      "cell_type": "markdown",
      "metadata": {
        "id": "3LZdUuW2ZIhJ"
      },
      "source": [
        "**8)def:-**This keyword is used to declare the function in Python. If followed by the function name."
      ]
    },
    {
      "cell_type": "code",
      "metadata": {
        "colab": {
          "base_uri": "https://localhost:8080/"
        },
        "id": "je9s43-lZRlq",
        "outputId": "c62f98e0-3b44-4a31-f168-641869880343"
      },
      "source": [
        "def my_func(a,b):  \n",
        "    c = a+b  \n",
        "    print(c)  \n",
        "my_func(10,20)  "
      ],
      "execution_count": null,
      "outputs": [
        {
          "output_type": "stream",
          "text": [
            "30\n"
          ],
          "name": "stdout"
        }
      ]
    },
    {
      "cell_type": "markdown",
      "metadata": {
        "id": "JuCFDlciZlHF"
      },
      "source": [
        "**9)class:-**It is used to represents the class in Python. The class is the blueprint of the objects. It is the collection of the variable and methods. Consider the following class."
      ]
    },
    {
      "cell_type": "code",
      "metadata": {
        "id": "nwlw946nZtQi"
      },
      "source": [
        "class Myclass:  \n",
        "   #Variables……..  \n",
        "   def function_name(self):  \n",
        "      #statements………  "
      ],
      "execution_count": null,
      "outputs": []
    },
    {
      "cell_type": "markdown",
      "metadata": {
        "id": "omGTA5GHZwtc"
      },
      "source": [
        "**10)continue:-** It is used to stop the execution of the current iteration. Consider the following example."
      ]
    },
    {
      "cell_type": "code",
      "metadata": {
        "colab": {
          "base_uri": "https://localhost:8080/"
        },
        "id": "spyhBb7AZ3uu",
        "outputId": "adfbae62-2253-4a2e-8556-65603089a586"
      },
      "source": [
        "a = 0  \n",
        "while a < 4:  \n",
        "  a += 1   \n",
        "  if a == 2:  \n",
        "    continue  \n",
        "  print(a)  "
      ],
      "execution_count": null,
      "outputs": [
        {
          "output_type": "stream",
          "text": [
            "1\n",
            "3\n",
            "4\n"
          ],
          "name": "stdout"
        }
      ]
    },
    {
      "cell_type": "markdown",
      "metadata": {
        "id": "K-xpd_1GaFbH"
      },
      "source": [
        "**11)break:-** It is used to terminate the loop execution and control transfer to the end of the loop. Consider the following example.\n",
        "\n"
      ]
    },
    {
      "cell_type": "code",
      "metadata": {
        "colab": {
          "base_uri": "https://localhost:8080/"
        },
        "id": "J9AacDBqaSWI",
        "outputId": "54ae406a-408c-4fe4-fc27-08f80ecc7a89"
      },
      "source": [
        "for i in range(5):  \n",
        "    if(i==3):  \n",
        "        break  \n",
        "    print(i)  \n",
        "print(\"End of execution\")  "
      ],
      "execution_count": null,
      "outputs": [
        {
          "output_type": "stream",
          "text": [
            "0\n",
            "1\n",
            "2\n",
            "End of execution\n"
          ],
          "name": "stdout"
        }
      ]
    },
    {
      "cell_type": "markdown",
      "metadata": {
        "id": "wttjWMNxaZwc"
      },
      "source": [
        "**12)if:-** It is used to represent the conditional statement. The execution of a particular block is decided by if statement. Consider the following example."
      ]
    },
    {
      "cell_type": "code",
      "metadata": {
        "colab": {
          "base_uri": "https://localhost:8080/"
        },
        "id": "u0HHRmqqaiFX",
        "outputId": "99aa3575-08ff-422f-f024-d3d3a2a6e036"
      },
      "source": [
        "i = 18  \n",
        "if (1 < 12):  \n",
        "  print(\"I am less than 18\") "
      ],
      "execution_count": null,
      "outputs": [
        {
          "output_type": "stream",
          "text": [
            "I am less than 18\n"
          ],
          "name": "stdout"
        }
      ]
    },
    {
      "cell_type": "markdown",
      "metadata": {
        "id": "G877Ku49bOly"
      },
      "source": [
        "**13)else:-** The else statement is used with the if statement. When if statement returns false, then else block is executed. Consider the following example."
      ]
    },
    {
      "cell_type": "code",
      "metadata": {
        "colab": {
          "base_uri": "https://localhost:8080/"
        },
        "id": "R8LBhH74akj6",
        "outputId": "87ca0fc5-7c53-4b6d-9bbb-a3c3784f2ff4"
      },
      "source": [
        "n = 11  \n",
        "if(n%2 == 0):  \n",
        "    print(\"Even\")  \n",
        "else:  \n",
        "    print(\"odd\")  "
      ],
      "execution_count": null,
      "outputs": [
        {
          "output_type": "stream",
          "text": [
            "odd\n"
          ],
          "name": "stdout"
        }
      ]
    },
    {
      "cell_type": "markdown",
      "metadata": {
        "id": "yE7KRw3IbawN"
      },
      "source": [
        "**14)elif:-** This Keyword is used to check the multiple conditions. It is short for else-if. If the previous condition is false, then check until the true condition is found. Condition the following example."
      ]
    },
    {
      "cell_type": "code",
      "metadata": {
        "colab": {
          "base_uri": "https://localhost:8080/"
        },
        "id": "ubeWDErAbZgn",
        "outputId": "cc087d8d-ac38-4d55-cc44-b4079c22a30c"
      },
      "source": [
        "marks = int(input(\"Enter the marks:\"))  \n",
        "if(marks>=90):  \n",
        "    print(\"Excellent\")  \n",
        "elif(marks<90 and marks>=75):  \n",
        "    print(\"Very Good\")  \n",
        "elif(marks<75 and marks>=60):  \n",
        "    print(\"Good\")  \n",
        "else:  \n",
        "    print(\"Average\")  "
      ],
      "execution_count": null,
      "outputs": [
        {
          "output_type": "stream",
          "text": [
            "Enter the marks:85\n",
            "Very Good\n"
          ],
          "name": "stdout"
        }
      ]
    },
    {
      "cell_type": "markdown",
      "metadata": {
        "id": "a3JjBPePbn1S"
      },
      "source": [
        "**15)del:-** It is used to delete the reference of the object. Consider the following example."
      ]
    },
    {
      "cell_type": "code",
      "metadata": {
        "colab": {
          "base_uri": "https://localhost:8080/",
          "height": 212
        },
        "id": "gZoDaPLYbkl2",
        "outputId": "5938505e-9cce-4803-dc05-f965866ecb43"
      },
      "source": [
        "a=10  \n",
        "b=12  \n",
        "del a  \n",
        "print(b)  \n",
        "# a is no longer exist  \n",
        "print(a)"
      ],
      "execution_count": null,
      "outputs": [
        {
          "output_type": "stream",
          "text": [
            "12\n"
          ],
          "name": "stdout"
        },
        {
          "output_type": "error",
          "ename": "NameError",
          "evalue": "ignored",
          "traceback": [
            "\u001b[0;31m---------------------------------------------------------------------------\u001b[0m",
            "\u001b[0;31mNameError\u001b[0m                                 Traceback (most recent call last)",
            "\u001b[0;32m<ipython-input-15-a06935b6d822>\u001b[0m in \u001b[0;36m<module>\u001b[0;34m()\u001b[0m\n\u001b[1;32m      4\u001b[0m \u001b[0mprint\u001b[0m\u001b[0;34m(\u001b[0m\u001b[0mb\u001b[0m\u001b[0;34m)\u001b[0m\u001b[0;34m\u001b[0m\u001b[0;34m\u001b[0m\u001b[0m\n\u001b[1;32m      5\u001b[0m \u001b[0;31m# a is no longer exist\u001b[0m\u001b[0;34m\u001b[0m\u001b[0;34m\u001b[0m\u001b[0;34m\u001b[0m\u001b[0m\n\u001b[0;32m----> 6\u001b[0;31m \u001b[0mprint\u001b[0m\u001b[0;34m(\u001b[0m\u001b[0ma\u001b[0m\u001b[0;34m)\u001b[0m\u001b[0;34m\u001b[0m\u001b[0;34m\u001b[0m\u001b[0m\n\u001b[0m",
            "\u001b[0;31mNameError\u001b[0m: name 'a' is not defined"
          ]
        }
      ]
    },
    {
      "cell_type": "markdown",
      "metadata": {
        "id": "yve1aGJfKFuM"
      },
      "source": [
        ""
      ]
    },
    {
      "cell_type": "code",
      "metadata": {
        "id": "jyX-mdGFKGHw"
      },
      "source": [
        ""
      ],
      "execution_count": null,
      "outputs": []
    },
    {
      "cell_type": "markdown",
      "metadata": {
        "id": "JAns7D44KGUO"
      },
      "source": [
        ""
      ]
    },
    {
      "cell_type": "code",
      "metadata": {
        "id": "MbmOCA8zKQKb"
      },
      "source": [
        "# Import PyDrive and associated libraries.\n",
        "# This only needs to be done once per notebook.\n",
        "from pydrive.auth import GoogleAuth\n",
        "from pydrive.drive import GoogleDrive\n",
        "from google.colab import auth\n",
        "from oauth2client.client import GoogleCredentials\n",
        " \n",
        "# Authenticate and create the PyDrive client.\n",
        "# This only needs to be done once per notebook.\n",
        "auth.authenticate_user()\n",
        "gauth = GoogleAuth()\n",
        "gauth.credentials = GoogleCredentials.get_application_default()\n",
        "drive = GoogleDrive(gauth)\n",
        " \n",
        "# Download a file based on its file ID.\n",
        "#\n",
        "# A file ID looks like: laggVyWshwcyP6kEI-y_W3P8D26sz\n",
        "file_id = 'REPLACE_WITH_YOUR_FILE_ID'\n",
        "downloaded = drive.CreateFile({'id': file_id})\n",
        "print('Downloaded content \"{}\"'.format(downloaded.GetContentString()))"
      ],
      "execution_count": null,
      "outputs": []
    },
    {
      "cell_type": "markdown",
      "metadata": {
        "id": "qYvwCEA-bxHp"
      },
      "source": [
        "**16)try, except:-**The try-except is used to handle the exceptions. The exceptions are run-time errors. Consider the following example."
      ]
    },
    {
      "cell_type": "code",
      "metadata": {
        "colab": {
          "base_uri": "https://localhost:8080/"
        },
        "id": "gsc7IgcFbvW_",
        "outputId": "f5c9e8d0-3b15-41df-ef85-9c3fb44b7b0e"
      },
      "source": [
        "a = 0  \n",
        "try:  \n",
        "   b = 1/a  \n",
        "except Exception as e:  \n",
        "   print(e)  "
      ],
      "execution_count": null,
      "outputs": [
        {
          "output_type": "stream",
          "text": [
            "division by zero\n"
          ],
          "name": "stdout"
        }
      ]
    },
    {
      "cell_type": "markdown",
      "metadata": {
        "id": "nTf4e9-Bb_wJ"
      },
      "source": [
        "**17)raise:-** The raise keyword is used to through the exception forcefully. Consider the following example."
      ]
    },
    {
      "cell_type": "code",
      "metadata": {
        "colab": {
          "base_uri": "https://localhost:8080/",
          "height": 195
        },
        "id": "Stoo6aEccE6N",
        "outputId": "a785596c-8700-4eaa-ac37-5391c455ab88"
      },
      "source": [
        "a = 5  \n",
        "if (a>2):  \n",
        "   raise Exception('a should not exceed 2 ')  "
      ],
      "execution_count": null,
      "outputs": [
        {
          "output_type": "error",
          "ename": "Exception",
          "evalue": "ignored",
          "traceback": [
            "\u001b[0;31m---------------------------------------------------------------------------\u001b[0m",
            "\u001b[0;31mException\u001b[0m                                 Traceback (most recent call last)",
            "\u001b[0;32m<ipython-input-17-7a053a340c2e>\u001b[0m in \u001b[0;36m<module>\u001b[0;34m()\u001b[0m\n\u001b[1;32m      1\u001b[0m \u001b[0ma\u001b[0m \u001b[0;34m=\u001b[0m \u001b[0;36m5\u001b[0m\u001b[0;34m\u001b[0m\u001b[0;34m\u001b[0m\u001b[0m\n\u001b[1;32m      2\u001b[0m \u001b[0;32mif\u001b[0m \u001b[0;34m(\u001b[0m\u001b[0ma\u001b[0m\u001b[0;34m>\u001b[0m\u001b[0;36m2\u001b[0m\u001b[0;34m)\u001b[0m\u001b[0;34m:\u001b[0m\u001b[0;34m\u001b[0m\u001b[0;34m\u001b[0m\u001b[0m\n\u001b[0;32m----> 3\u001b[0;31m    \u001b[0;32mraise\u001b[0m \u001b[0mException\u001b[0m\u001b[0;34m(\u001b[0m\u001b[0;34m'a should not exceed 2 '\u001b[0m\u001b[0;34m)\u001b[0m\u001b[0;34m\u001b[0m\u001b[0;34m\u001b[0m\u001b[0m\n\u001b[0m",
            "\u001b[0;31mException\u001b[0m: a should not exceed 2 "
          ]
        }
      ]
    },
    {
      "cell_type": "markdown",
      "metadata": {
        "id": "Kf3ryoBYcKOq"
      },
      "source": [
        "**18)finally:-** The finally keyword is used to create a block of code that will always be executed no matter the else block raises an error or not. Consider the following example."
      ]
    },
    {
      "cell_type": "code",
      "metadata": {
        "colab": {
          "base_uri": "https://localhost:8080/"
        },
        "id": "tdLHoYPOcG8m",
        "outputId": "8d29e829-27ff-4070-eb79-b512eadaebd9"
      },
      "source": [
        "a=0  \n",
        "b=5  \n",
        "try:  \n",
        "    c = b/a  \n",
        "    print(c)  \n",
        "except Exception as e:  \n",
        "    print(e)  \n",
        "finally:  \n",
        "    print('Finally always executed')"
      ],
      "execution_count": null,
      "outputs": [
        {
          "output_type": "stream",
          "text": [
            "division by zero\n",
            "Finally always executed\n"
          ],
          "name": "stdout"
        }
      ]
    },
    {
      "cell_type": "markdown",
      "metadata": {
        "id": "82rYOtnacXxk"
      },
      "source": [
        "**19)for,while:-** Both keywords are used for iteration. The for keyword is used to iterate over the sequences (list, tuple, dictionary, string). A while loop is executed until the condition returns false. Consider the following example."
      ]
    },
    {
      "cell_type": "code",
      "metadata": {
        "colab": {
          "base_uri": "https://localhost:8080/"
        },
        "id": "4b5K1ClQceex",
        "outputId": "eb565dd5-6c0f-4a30-9b43-27f4cb8cc4e5"
      },
      "source": [
        "list = [1,2,3,4,5]  \n",
        "for i in list:  \n",
        "    print(i)  "
      ],
      "execution_count": null,
      "outputs": [
        {
          "output_type": "stream",
          "text": [
            "1\n",
            "2\n",
            "3\n",
            "4\n",
            "5\n"
          ],
          "name": "stdout"
        }
      ]
    },
    {
      "cell_type": "code",
      "metadata": {
        "colab": {
          "base_uri": "https://localhost:8080/"
        },
        "id": "6AMHCEvzchGP",
        "outputId": "980abec1-9e04-4f2e-807a-234a0a6266e7"
      },
      "source": [
        "a = 0  \n",
        "while(a<5):  \n",
        "    print(a)  \n",
        "    a = a+1 "
      ],
      "execution_count": null,
      "outputs": [
        {
          "output_type": "stream",
          "text": [
            "0\n",
            "1\n",
            "2\n",
            "3\n",
            "4\n"
          ],
          "name": "stdout"
        }
      ]
    },
    {
      "cell_type": "markdown",
      "metadata": {
        "id": "VyjX77Epf5Qh"
      },
      "source": [
        "**20)import:-**The import keyword is used to import modules in the current Python script. The module contains a runnable Python code."
      ]
    },
    {
      "cell_type": "code",
      "metadata": {
        "colab": {
          "base_uri": "https://localhost:8080/"
        },
        "id": "PjuTQLJRcnj9",
        "outputId": "4ad0787e-f9dc-4b37-b511-13256332a401"
      },
      "source": [
        "import math  \n",
        "print(math.sqrt(25))  "
      ],
      "execution_count": null,
      "outputs": [
        {
          "output_type": "stream",
          "text": [
            "5.0\n"
          ],
          "name": "stdout"
        }
      ]
    },
    {
      "cell_type": "markdown",
      "metadata": {
        "id": "a7MUoPTbgCPT"
      },
      "source": [
        "**21)from:-**This keyword is used to import the specific function or attributes in the current Python script."
      ]
    },
    {
      "cell_type": "code",
      "metadata": {
        "colab": {
          "base_uri": "https://localhost:8080/"
        },
        "id": "945jHbaQgA1e",
        "outputId": "cdd38863-a2ed-49ee-b4d3-32402518b59b"
      },
      "source": [
        "from math import sqrt  \n",
        "print(sqrt(25))  "
      ],
      "execution_count": null,
      "outputs": [
        {
          "output_type": "stream",
          "text": [
            "5.0\n"
          ],
          "name": "stdout"
        }
      ]
    },
    {
      "cell_type": "markdown",
      "metadata": {
        "id": "V7X_K0ZrgOWR"
      },
      "source": [
        "**22)as:-** as - It is used to create a name alias. It provides the user-define name while importing a module."
      ]
    },
    {
      "cell_type": "code",
      "metadata": {
        "colab": {
          "base_uri": "https://localhost:8080/"
        },
        "id": "xVpJHuc-gKiO",
        "outputId": "c945318f-a7cd-4552-f445-8aabaa5b4d23"
      },
      "source": [
        "import calendar as cal  \n",
        "print(cal.month_name[5])  "
      ],
      "execution_count": null,
      "outputs": [
        {
          "output_type": "stream",
          "text": [
            "May\n"
          ],
          "name": "stdout"
        }
      ]
    },
    {
      "cell_type": "markdown",
      "metadata": {
        "id": "bWIjTxcSgZW6"
      },
      "source": [
        "**23)pass:-**The pass keyword is used to execute nothing or create a placeholder for future code. If we declare an empty class or function, it will through an error, so we use the pass keyword to declare an empty class or function."
      ]
    },
    {
      "cell_type": "code",
      "metadata": {
        "id": "vlJENpYOgW2d"
      },
      "source": [
        "class my_class:  \n",
        "    pass  \n",
        "  \n",
        "def my_func():   \n",
        "    pass   "
      ],
      "execution_count": null,
      "outputs": []
    },
    {
      "cell_type": "markdown",
      "metadata": {
        "id": "XOcOETWXghAh"
      },
      "source": [
        "**24)return:-**The return keyword is used to return the result value or none to called function."
      ]
    },
    {
      "cell_type": "code",
      "metadata": {
        "colab": {
          "base_uri": "https://localhost:8080/"
        },
        "id": "DXeacotzgfxt",
        "outputId": "821653e7-62ec-428a-df4e-ad6a2a7def75"
      },
      "source": [
        "def sum(a,b):  \n",
        "    c = a+b  \n",
        "    return c  \n",
        "      \n",
        "print(\"The sum is:\",sum(25,15))  "
      ],
      "execution_count": null,
      "outputs": [
        {
          "output_type": "stream",
          "text": [
            "The sum is: 40\n"
          ],
          "name": "stdout"
        }
      ]
    },
    {
      "cell_type": "markdown",
      "metadata": {
        "id": "eg8FH5xUgsdp"
      },
      "source": [
        "**25)is:-** This keyword is used to check if the two-variable refers to the same object. It returns the true if they refer to the same object otherwise false. Consider the following example."
      ]
    },
    {
      "cell_type": "code",
      "metadata": {
        "colab": {
          "base_uri": "https://localhost:8080/"
        },
        "id": "5NMEiSt0gwlk",
        "outputId": "ad5ebeee-4a97-4e26-be4d-0b539c9440d6"
      },
      "source": [
        "x = 5  \n",
        "y = 5  \n",
        "  \n",
        "a = []  \n",
        "b = []  \n",
        "print(x is y)  \n",
        "print(a is b)  "
      ],
      "execution_count": null,
      "outputs": [
        {
          "output_type": "stream",
          "text": [
            "True\n",
            "False\n"
          ],
          "name": "stdout"
        }
      ]
    },
    {
      "cell_type": "markdown",
      "metadata": {
        "id": "2pUQCSCfg3MR"
      },
      "source": [
        "**26)global:-** The global keyword is used to create a global variable inside the function. Any function can access the global. Consider the following example."
      ]
    },
    {
      "cell_type": "code",
      "metadata": {
        "colab": {
          "base_uri": "https://localhost:8080/"
        },
        "id": "QydEbYh9g0DU",
        "outputId": "1abb5178-5721-4735-eb20-07062ad97638"
      },
      "source": [
        "def my_func():  \n",
        "    global a   \n",
        "    a = 10  \n",
        "    b = 20  \n",
        "    c = a+b  \n",
        "    print(c)  \n",
        "      \n",
        "my_func()  \n",
        "  \n",
        "def func():  \n",
        "    print(a)  \n",
        "      \n",
        "func() "
      ],
      "execution_count": null,
      "outputs": [
        {
          "output_type": "stream",
          "text": [
            "30\n",
            "10\n"
          ],
          "name": "stdout"
        }
      ]
    },
    {
      "cell_type": "markdown",
      "metadata": {
        "id": "O_sersAphBgq"
      },
      "source": [
        "**27)nonlocal:-**The nonlocal is similar to the global and used to work with a variable inside the nested function(function inside a function). Consider the following example."
      ]
    },
    {
      "cell_type": "code",
      "metadata": {
        "colab": {
          "base_uri": "https://localhost:8080/"
        },
        "id": "KQkSMUvgg-R0",
        "outputId": "1fc406c1-84ed-4d84-a4f2-830dca80a0e1"
      },
      "source": [
        "def outside_function():  \n",
        "    a = 20   \n",
        "    def inside_function():  \n",
        "        nonlocal a  \n",
        "        a = 30  \n",
        "        print(\"Inner function: \",a)  \n",
        "    inside_function()  \n",
        "    print(\"Outer function: \",a)  \n",
        "outside_function()"
      ],
      "execution_count": null,
      "outputs": [
        {
          "output_type": "stream",
          "text": [
            "Inner function:  30\n",
            "Outer function:  30\n"
          ],
          "name": "stdout"
        }
      ]
    },
    {
      "cell_type": "markdown",
      "metadata": {
        "id": "3Nb-H6sqhOJv"
      },
      "source": [
        "**28)lambda:-** The lambda keyword is used to create the anonymous function in Python. It is an inline function without a name. Consider the following example."
      ]
    },
    {
      "cell_type": "code",
      "metadata": {
        "colab": {
          "base_uri": "https://localhost:8080/"
        },
        "id": "M2JzcBNJhWDj",
        "outputId": "903725f6-459d-45c9-b6de-66b90bcd18b1"
      },
      "source": [
        "a = lambda x: x**2  \n",
        "for i in range(1,6):  \n",
        "  print(a(i))  "
      ],
      "execution_count": null,
      "outputs": [
        {
          "output_type": "stream",
          "text": [
            "1\n",
            "4\n",
            "9\n",
            "16\n",
            "25\n"
          ],
          "name": "stdout"
        }
      ]
    },
    {
      "cell_type": "code",
      "metadata": {
        "colab": {
          "background_save": true,
          "base_uri": "https://localhost:8080/"
        },
        "id": "I7ZZuc3whYaM",
        "outputId": "659d2e10-7633-4a97-d321-8dcdee34c484"
      },
      "source": [
        "a = \"Jagdish\"\n",
        "b = \"3.14\"\n",
        "c = a + b\n",
        "print(a + b)\n",
        "\n"
      ],
      "execution_count": null,
      "outputs": [
        {
          "output_type": "stream",
          "text": [
            "Jagdish3\n"
          ],
          "name": "stdout"
        }
      ]
    },
    {
      "cell_type": "markdown",
      "metadata": {
        "id": "3dhoj_pIljLO"
      },
      "source": [
        "**29)yeild:-**The yield keyword is used with the Python generator. It stops the function's execution and returns value to the caller. Consider the following example."
      ]
    },
    {
      "cell_type": "code",
      "metadata": {
        "colab": {
          "base_uri": "https://localhost:8080/"
        },
        "id": "kPnrXcgTnQ_v",
        "outputId": "24435b5e-e4b1-46c3-9816-b9fbf43d9cda"
      },
      "source": [
        "def fun_Generator():  \n",
        "  yield 1  \n",
        "  yield 2  \n",
        "  yield 3  \n",
        "  \n",
        "  \n",
        "# Driver code to check above generator function   \n",
        "for value in fun_Generator():  \n",
        "  print(value)  "
      ],
      "execution_count": null,
      "outputs": [
        {
          "output_type": "stream",
          "text": [
            "1\n",
            "2\n",
            "3\n"
          ],
          "name": "stdout"
        }
      ]
    },
    {
      "cell_type": "markdown",
      "metadata": {
        "id": "WDldUVnonWUB"
      },
      "source": [
        "**30)with:-**The with keyword is used in the exception handling. It makes code cleaner and more readable. The advantage of using with, we don't need to call close(). Consider the following example."
      ]
    },
    {
      "cell_type": "code",
      "metadata": {
        "id": "drJkrCxxnT-7"
      },
      "source": [
        "with open('file_path', 'w') as file:   \n",
        "    file.write('hello world !')  "
      ],
      "execution_count": null,
      "outputs": []
    },
    {
      "cell_type": "markdown",
      "metadata": {
        "id": "xD7L-LW9nhrZ"
      },
      "source": [
        "**31)None:-**The None keyword is used to define the null value. It is remembered that None does not indicate 0, false, or any empty data-types. It is an object of its data type, which is Consider the following example."
      ]
    },
    {
      "cell_type": "code",
      "metadata": {
        "colab": {
          "base_uri": "https://localhost:8080/"
        },
        "id": "KMAoFDItneoq",
        "outputId": "91255a03-9aa2-48b7-9e05-a3523c5ee871"
      },
      "source": [
        "def return_none():  \n",
        "  a = 10  \n",
        "  b = 20  \n",
        "  c = a + b  \n",
        "  \n",
        "x = return_none()  \n",
        "print(x)  "
      ],
      "execution_count": null,
      "outputs": [
        {
          "output_type": "stream",
          "text": [
            "None\n"
          ],
          "name": "stdout"
        }
      ]
    },
    {
      "cell_type": "code",
      "metadata": {
        "id": "BPXdGowYnsgI"
      },
      "source": [
        ""
      ],
      "execution_count": null,
      "outputs": []
    }
  ]
}