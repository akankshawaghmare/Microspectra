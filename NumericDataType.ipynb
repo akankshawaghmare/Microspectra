{
  "nbformat": 4,
  "nbformat_minor": 0,
  "metadata": {
    "colab": {
      "name": "NumericDataType.ipynb",
      "provenance": [],
      "authorship_tag": "ABX9TyOQL9Gr9H0fkgSJSB4GrN3R",
      "include_colab_link": true
    },
    "kernelspec": {
      "name": "python3",
      "display_name": "Python 3"
    }
  },
  "cells": [
    {
      "cell_type": "markdown",
      "metadata": {
        "id": "view-in-github",
        "colab_type": "text"
      },
      "source": [
        "<a href=\"https://colab.research.google.com/github/akankshawaghmare/Microspectra/blob/main/NumericDataType.ipynb\" target=\"_parent\"><img src=\"https://colab.research.google.com/assets/colab-badge.svg\" alt=\"Open In Colab\"/></a>"
      ]
    },
    {
      "cell_type": "code",
      "metadata": {
        "colab": {
          "base_uri": "https://localhost:8080/"
        },
        "id": "HFrsYrCUqag3",
        "outputId": "e4851dd8-4905-4081-a82c-4b4229586c7c"
      },
      "source": [
        "#program for conversion of datatype\r\n",
        "x=int(input(\"Enter the value for x : \"))\r\n",
        "y=int(input(\"Enter the value for y : \"))\r\n",
        "z=x/y\r\n",
        "print(\"The value of z : \",z)\r\n",
        "print(int(z))\r\n",
        "print(str(z))\r\n"
      ],
      "execution_count": 3,
      "outputs": [
        {
          "output_type": "stream",
          "text": [
            "Enter the value for x : 8\n",
            "Enter the value for y : 4\n",
            "The value of z :  2.0\n",
            "2\n",
            "2.0\n"
          ],
          "name": "stdout"
        }
      ]
    },
    {
      "cell_type": "code",
      "metadata": {
        "colab": {
          "base_uri": "https://localhost:8080/"
        },
        "id": "vz4SENdqva_r",
        "outputId": "aca6346d-3d45-4e22-bef5-8a80dd81c13e"
      },
      "source": [
        "#program for conversion of integer to hex,oct,bin\r\n",
        "a=9\r\n",
        "print(\"The value of a in binary form is :\",bin(a))\r\n",
        "print(\"The value of a in hexadecimal form is :\",hex(a))\r\n",
        "print(\"The value of a in octal form is :\",oct(a))"
      ],
      "execution_count": 9,
      "outputs": [
        {
          "output_type": "stream",
          "text": [
            "The value of a in binary form is : 0b1001\n",
            "The value of a in hexadecimal form is : 0x9\n",
            "The value of a in octal form is : 0o11\n"
          ],
          "name": "stdout"
        }
      ]
    },
    {
      "cell_type": "code",
      "metadata": {
        "colab": {
          "base_uri": "https://localhost:8080/"
        },
        "id": "Fjs5OL3bxChq",
        "outputId": "f9c6d604-1ee9-443b-9836-1ec161147981"
      },
      "source": [
        "#program for complex numbers\r\n",
        "a=4+8j\r\n",
        "print(type(a))\r\n",
        "b=58\r\n",
        "c=complex(b) #conversion of int to complex is possible but its inverse is not possible\r\n",
        "print(c)"
      ],
      "execution_count": 12,
      "outputs": [
        {
          "output_type": "stream",
          "text": [
            "<class 'complex'>\n",
            "(58+0j)\n"
          ],
          "name": "stdout"
        }
      ]
    }
  ]
}